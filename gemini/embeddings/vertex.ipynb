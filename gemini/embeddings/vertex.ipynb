{
 "cells": [
  {
   "cell_type": "code",
   "execution_count": 2,
   "metadata": {},
   "outputs": [
    {
     "name": "stdout",
     "output_type": "stream",
     "text": [
      "Collecting google-cloud-aiplatform\n",
      "  Downloading google_cloud_aiplatform-1.52.0-py2.py3-none-any.whl (5.0 MB)\n",
      "\u001b[2K     \u001b[38;2;114;156;31m━━━━━━━━━━━━━━━━━━━━━━━━━━━━━━━━━━━━━━━━\u001b[0m \u001b[32m5.0/5.0 MB\u001b[0m \u001b[31m7.8 MB/s\u001b[0m eta \u001b[36m0:00:00\u001b[0mm eta \u001b[36m0:00:01\u001b[0m0:01\u001b[0m:01\u001b[0m\n",
      "\u001b[?25hRequirement already satisfied: protobuf!=3.20.0,!=3.20.1,!=4.21.0,!=4.21.1,!=4.21.2,!=4.21.3,!=4.21.4,!=4.21.5,<5.0.0dev,>=3.19.5 in /Users/jimmy.liao/.pyenv/versions/3.10.13/envs/lab_gemini/lib/python3.10/site-packages (from google-cloud-aiplatform) (4.25.1)\n",
      "Requirement already satisfied: google-api-core[grpc]!=2.0.*,!=2.1.*,!=2.2.*,!=2.3.*,!=2.4.*,!=2.5.*,!=2.6.*,!=2.7.*,<3.0.0dev,>=1.34.1 in /Users/jimmy.liao/.pyenv/versions/3.10.13/envs/lab_gemini/lib/python3.10/site-packages (from google-cloud-aiplatform) (2.15.0)\n",
      "Collecting docstring-parser<1\n",
      "  Downloading docstring_parser-0.16-py3-none-any.whl (36 kB)\n",
      "Collecting google-cloud-storage<3.0.0dev,>=1.32.0\n",
      "  Using cached google_cloud_storage-2.16.0-py2.py3-none-any.whl (125 kB)\n",
      "Collecting google-cloud-bigquery!=3.20.0,<4.0.0dev,>=1.15.0\n",
      "  Downloading google_cloud_bigquery-3.23.1-py2.py3-none-any.whl (237 kB)\n",
      "\u001b[2K     \u001b[38;2;114;156;31m━━━━━━━━━━━━━━━━━━━━━━━━━━━━━━━━━━━━━━\u001b[0m \u001b[32m237.3/237.3 kB\u001b[0m \u001b[31m21.5 MB/s\u001b[0m eta \u001b[36m0:00:00\u001b[0m\n",
      "\u001b[?25hRequirement already satisfied: google-auth<3.0.0dev,>=2.14.1 in /Users/jimmy.liao/.pyenv/versions/3.10.13/envs/lab_gemini/lib/python3.10/site-packages (from google-cloud-aiplatform) (2.25.2)\n",
      "Requirement already satisfied: pydantic<3 in /Users/jimmy.liao/.pyenv/versions/3.10.13/envs/lab_gemini/lib/python3.10/site-packages (from google-cloud-aiplatform) (2.6.4)\n",
      "Collecting shapely<3.0.0dev\n",
      "  Downloading shapely-2.0.4-cp310-cp310-macosx_11_0_arm64.whl (1.3 MB)\n",
      "\u001b[2K     \u001b[38;2;114;156;31m━━━━━━━━━━━━━━━━━━━━━━━━━━━━━━━━━━━━━━━━\u001b[0m \u001b[32m1.3/1.3 MB\u001b[0m \u001b[31m46.7 MB/s\u001b[0m eta \u001b[36m0:00:00\u001b[0m\n",
      "\u001b[?25hCollecting google-cloud-resource-manager<3.0.0dev,>=1.3.3\n",
      "  Using cached google_cloud_resource_manager-1.12.3-py2.py3-none-any.whl (333 kB)\n",
      "Requirement already satisfied: packaging>=14.3 in /Users/jimmy.liao/.pyenv/versions/3.10.13/envs/lab_gemini/lib/python3.10/site-packages (from google-cloud-aiplatform) (23.2)\n",
      "Requirement already satisfied: proto-plus<2.0.0dev,>=1.22.0 in /Users/jimmy.liao/.pyenv/versions/3.10.13/envs/lab_gemini/lib/python3.10/site-packages (from google-cloud-aiplatform) (1.23.0)\n",
      "Requirement already satisfied: requests<3.0.0.dev0,>=2.18.0 in /Users/jimmy.liao/.pyenv/versions/3.10.13/envs/lab_gemini/lib/python3.10/site-packages (from google-api-core[grpc]!=2.0.*,!=2.1.*,!=2.2.*,!=2.3.*,!=2.4.*,!=2.5.*,!=2.6.*,!=2.7.*,<3.0.0dev,>=1.34.1->google-cloud-aiplatform) (2.31.0)\n",
      "Requirement already satisfied: googleapis-common-protos<2.0.dev0,>=1.56.2 in /Users/jimmy.liao/.pyenv/versions/3.10.13/envs/lab_gemini/lib/python3.10/site-packages (from google-api-core[grpc]!=2.0.*,!=2.1.*,!=2.2.*,!=2.3.*,!=2.4.*,!=2.5.*,!=2.6.*,!=2.7.*,<3.0.0dev,>=1.34.1->google-cloud-aiplatform) (1.62.0)\n",
      "Requirement already satisfied: grpcio<2.0dev,>=1.33.2 in /Users/jimmy.liao/.pyenv/versions/3.10.13/envs/lab_gemini/lib/python3.10/site-packages (from google-api-core[grpc]!=2.0.*,!=2.1.*,!=2.2.*,!=2.3.*,!=2.4.*,!=2.5.*,!=2.6.*,!=2.7.*,<3.0.0dev,>=1.34.1->google-cloud-aiplatform) (1.62.1)\n",
      "Requirement already satisfied: grpcio-status<2.0.dev0,>=1.33.2 in /Users/jimmy.liao/.pyenv/versions/3.10.13/envs/lab_gemini/lib/python3.10/site-packages (from google-api-core[grpc]!=2.0.*,!=2.1.*,!=2.2.*,!=2.3.*,!=2.4.*,!=2.5.*,!=2.6.*,!=2.7.*,<3.0.0dev,>=1.34.1->google-cloud-aiplatform) (1.60.0)\n",
      "Requirement already satisfied: cachetools<6.0,>=2.0.0 in /Users/jimmy.liao/.pyenv/versions/3.10.13/envs/lab_gemini/lib/python3.10/site-packages (from google-auth<3.0.0dev,>=2.14.1->google-cloud-aiplatform) (5.3.2)\n",
      "Requirement already satisfied: rsa<5,>=3.1.4 in /Users/jimmy.liao/.pyenv/versions/3.10.13/envs/lab_gemini/lib/python3.10/site-packages (from google-auth<3.0.0dev,>=2.14.1->google-cloud-aiplatform) (4.9)\n",
      "Requirement already satisfied: pyasn1-modules>=0.2.1 in /Users/jimmy.liao/.pyenv/versions/3.10.13/envs/lab_gemini/lib/python3.10/site-packages (from google-auth<3.0.0dev,>=2.14.1->google-cloud-aiplatform) (0.3.0)\n",
      "Requirement already satisfied: google-cloud-core<3.0.0dev,>=1.6.0 in /Users/jimmy.liao/.pyenv/versions/3.10.13/envs/lab_gemini/lib/python3.10/site-packages (from google-cloud-bigquery!=3.20.0,<4.0.0dev,>=1.15.0->google-cloud-aiplatform) (2.4.1)\n",
      "Collecting google-resumable-media<3.0dev,>=0.6.0\n",
      "  Using cached google_resumable_media-2.7.0-py2.py3-none-any.whl (80 kB)\n",
      "Requirement already satisfied: python-dateutil<3.0dev,>=2.7.2 in /Users/jimmy.liao/.pyenv/versions/3.10.13/envs/lab_gemini/lib/python3.10/site-packages (from google-cloud-bigquery!=3.20.0,<4.0.0dev,>=1.15.0->google-cloud-aiplatform) (2.8.2)\n",
      "Collecting grpc-google-iam-v1<1.0.0dev,>=0.12.4\n",
      "  Using cached grpc_google_iam_v1-0.13.0-py2.py3-none-any.whl (25 kB)\n",
      "Collecting google-crc32c<2.0dev,>=1.0\n",
      "  Using cached google_crc32c-1.5.0-cp310-cp310-macosx_10_9_universal2.whl (32 kB)\n",
      "Collecting google-auth<3.0.0dev,>=2.14.1\n",
      "  Using cached google_auth-2.29.0-py2.py3-none-any.whl (189 kB)\n",
      "Requirement already satisfied: typing-extensions>=4.6.1 in /Users/jimmy.liao/.pyenv/versions/3.10.13/envs/lab_gemini/lib/python3.10/site-packages (from pydantic<3->google-cloud-aiplatform) (4.10.0)\n",
      "Requirement already satisfied: annotated-types>=0.4.0 in /Users/jimmy.liao/.pyenv/versions/3.10.13/envs/lab_gemini/lib/python3.10/site-packages (from pydantic<3->google-cloud-aiplatform) (0.6.0)\n",
      "Requirement already satisfied: pydantic-core==2.16.3 in /Users/jimmy.liao/.pyenv/versions/3.10.13/envs/lab_gemini/lib/python3.10/site-packages (from pydantic<3->google-cloud-aiplatform) (2.16.3)\n",
      "Requirement already satisfied: numpy<3,>=1.14 in /Users/jimmy.liao/.pyenv/versions/3.10.13/envs/lab_gemini/lib/python3.10/site-packages (from shapely<3.0.0dev->google-cloud-aiplatform) (1.26.4)\n",
      "Requirement already satisfied: pyasn1<0.6.0,>=0.4.6 in /Users/jimmy.liao/.pyenv/versions/3.10.13/envs/lab_gemini/lib/python3.10/site-packages (from pyasn1-modules>=0.2.1->google-auth<3.0.0dev,>=2.14.1->google-cloud-aiplatform) (0.5.1)\n",
      "Requirement already satisfied: six>=1.5 in /Users/jimmy.liao/.pyenv/versions/3.10.13/envs/lab_gemini/lib/python3.10/site-packages (from python-dateutil<3.0dev,>=2.7.2->google-cloud-bigquery!=3.20.0,<4.0.0dev,>=1.15.0->google-cloud-aiplatform) (1.16.0)\n",
      "Requirement already satisfied: idna<4,>=2.5 in /Users/jimmy.liao/.pyenv/versions/3.10.13/envs/lab_gemini/lib/python3.10/site-packages (from requests<3.0.0.dev0,>=2.18.0->google-api-core[grpc]!=2.0.*,!=2.1.*,!=2.2.*,!=2.3.*,!=2.4.*,!=2.5.*,!=2.6.*,!=2.7.*,<3.0.0dev,>=1.34.1->google-cloud-aiplatform) (3.6)\n",
      "Requirement already satisfied: charset-normalizer<4,>=2 in /Users/jimmy.liao/.pyenv/versions/3.10.13/envs/lab_gemini/lib/python3.10/site-packages (from requests<3.0.0.dev0,>=2.18.0->google-api-core[grpc]!=2.0.*,!=2.1.*,!=2.2.*,!=2.3.*,!=2.4.*,!=2.5.*,!=2.6.*,!=2.7.*,<3.0.0dev,>=1.34.1->google-cloud-aiplatform) (3.3.2)\n",
      "Requirement already satisfied: certifi>=2017.4.17 in /Users/jimmy.liao/.pyenv/versions/3.10.13/envs/lab_gemini/lib/python3.10/site-packages (from requests<3.0.0.dev0,>=2.18.0->google-api-core[grpc]!=2.0.*,!=2.1.*,!=2.2.*,!=2.3.*,!=2.4.*,!=2.5.*,!=2.6.*,!=2.7.*,<3.0.0dev,>=1.34.1->google-cloud-aiplatform) (2023.11.17)\n",
      "Requirement already satisfied: urllib3<3,>=1.21.1 in /Users/jimmy.liao/.pyenv/versions/3.10.13/envs/lab_gemini/lib/python3.10/site-packages (from requests<3.0.0.dev0,>=2.18.0->google-api-core[grpc]!=2.0.*,!=2.1.*,!=2.2.*,!=2.3.*,!=2.4.*,!=2.5.*,!=2.6.*,!=2.7.*,<3.0.0dev,>=1.34.1->google-cloud-aiplatform) (2.1.0)\n",
      "Installing collected packages: shapely, google-crc32c, docstring-parser, google-resumable-media, google-auth, grpc-google-iam-v1, google-cloud-storage, google-cloud-resource-manager, google-cloud-bigquery, google-cloud-aiplatform\n",
      "  Attempting uninstall: google-auth\n",
      "    Found existing installation: google-auth 2.25.2\n",
      "    Uninstalling google-auth-2.25.2:\n",
      "      Successfully uninstalled google-auth-2.25.2\n",
      "Successfully installed docstring-parser-0.16 google-auth-2.29.0 google-cloud-aiplatform-1.52.0 google-cloud-bigquery-3.23.1 google-cloud-resource-manager-1.12.3 google-cloud-storage-2.16.0 google-crc32c-1.5.0 google-resumable-media-2.7.0 grpc-google-iam-v1-0.13.0 shapely-2.0.4\n",
      "\n",
      "\u001b[1m[\u001b[0m\u001b[34;49mnotice\u001b[0m\u001b[1;39;49m]\u001b[0m\u001b[39;49m A new release of pip is available: \u001b[0m\u001b[31;49m23.0.1\u001b[0m\u001b[39;49m -> \u001b[0m\u001b[32;49m24.0\u001b[0m\n",
      "\u001b[1m[\u001b[0m\u001b[34;49mnotice\u001b[0m\u001b[1;39;49m]\u001b[0m\u001b[39;49m To update, run: \u001b[0m\u001b[32;49mpip install --upgrade pip\u001b[0m\n"
     ]
    }
   ],
   "source": [
    "# install vertex ai sdk\n",
    "!pip install google-cloud-aiplatform"
   ]
  },
  {
   "cell_type": "code",
   "execution_count": 17,
   "metadata": {},
   "outputs": [
    {
     "name": "stdout",
     "output_type": "stream",
     "text": [
      "[0.0029814322479069233, 0.021727746352553368, 0.058624569326639175, 0.010330887511372566, 0.09533035755157471]\n"
     ]
    }
   ],
   "source": [
    "from vertexai.preview.language_models import TextEmbeddingModel\n",
    "\n",
    "def google_embed(query: str):\n",
    "    embedder_name = \"text-multilingual-embedding-preview-0409\"\n",
    "    model = TextEmbeddingModel.from_pretrained(embedder_name)\n",
    "    embeddings_list = model.get_embeddings([query])\n",
    "    embeddings = embeddings_list[0].values\n",
    "    return embeddings\n",
    "\n",
    "# Example usage (768 dimensions)\n",
    "embeddings = google_embed(\"This is a text I want to embed\")\n",
    "print(embeddings[:5])"
   ]
  },
  {
   "cell_type": "code",
   "execution_count": 14,
   "metadata": {},
   "outputs": [],
   "source": [
    "import numpy as np\n",
    "def cosine_similarity(a, b):\n",
    "  return np.dot(a, b) / (np.linalg.norm(a) * np.linalg.norm(b))"
   ]
  },
  {
   "cell_type": "code",
   "execution_count": 15,
   "metadata": {},
   "outputs": [
    {
     "name": "stdout",
     "output_type": "stream",
     "text": [
      "Similarity between '今天天氣很好' and '我很開心': 0.7538\n"
     ]
    }
   ],
   "source": [
    "text1 = \"今天天氣很好\"\n",
    "text2 = \"我很開心\"\n",
    "\n",
    "embeddings1 = google_embed(text1)\n",
    "embeddings2 = google_embed(text2)\n",
    "\n",
    "# print(embeddings1[:5])\n",
    "# print(embeddings2[:5])\n",
    "\n",
    "similarity = cosine_similarity(embeddings1, embeddings2)\n",
    "print(f\"Similarity between '{text1}' and '{text2}': {similarity:.4f}\")\n",
    "\n"
   ]
  },
  {
   "cell_type": "code",
   "execution_count": 24,
   "metadata": {},
   "outputs": [
    {
     "name": "stdout",
     "output_type": "stream",
     "text": [
      "[0.010671528056263924, -0.0069691999815404415, -0.07482928782701492, -0.022868942469358444, 0.024032343178987503]\n"
     ]
    }
   ],
   "source": [
    "MODEL = \"text-embedding-004\"\n",
    "TASK = \"RETRIEVAL_DOCUMENT\"\n",
    "TEXT = \"This is a test\"\n",
    "TITLE = \"Test\"\n",
    "OUTPUT_DIMENSIONALITY = 768\n",
    "\n",
    "\n",
    "from vertexai.language_models import TextEmbeddingInput, TextEmbeddingModel\n",
    "\n",
    "\n",
    "def embed_text(\n",
    "    model_name: str,\n",
    "    task_type: str,\n",
    "    text: str,\n",
    "    title: str = \"\",\n",
    "    output_dimensionality=None,\n",
    ") -> list:\n",
    "    \"\"\"Generates a text embedding with a Large Language Model.\"\"\"\n",
    "    model = TextEmbeddingModel.from_pretrained(model_name)\n",
    "    text_embedding_input = TextEmbeddingInput(\n",
    "        task_type=task_type, title=title, text=text\n",
    "    )\n",
    "    kwargs = (\n",
    "        dict(output_dimensionality=output_dimensionality)\n",
    "        if output_dimensionality\n",
    "        else {}\n",
    "    )\n",
    "    embeddings = model.get_embeddings([text_embedding_input], **kwargs)\n",
    "    return embeddings[0].values\n",
    "\n",
    "\n",
    "# Get a text embedding for a downstream task.\n",
    "embedding = embed_text(\n",
    "    model_name=MODEL,\n",
    "    task_type=TASK,\n",
    "    text=TEXT,\n",
    "    title=TITLE,\n",
    "    output_dimensionality=OUTPUT_DIMENSIONALITY,\n",
    ")\n",
    "# print(len(embedding))  # Expected value: {OUTPUT_DIMENSIONALITY}.\n",
    "\n",
    "print(embedding[:5])"
   ]
  },
  {
   "cell_type": "code",
   "execution_count": 26,
   "metadata": {},
   "outputs": [
    {
     "name": "stdout",
     "output_type": "stream",
     "text": [
      "[0.008668964728713036, 0.04154808074235916, -0.029312308877706528, -0.0027766868006438017, 0.044972509145736694]\n",
      "[0.008668964728713036, 0.04154808074235916, -0.029312308877706528, -0.0027766868006438017, 0.044972509145736694]\n",
      "Similarity between '今天天氣很好' and '我很開心': 1.0000\n"
     ]
    }
   ],
   "source": [
    "TEXT1 = \"今天天氣很好\"\n",
    "TEXT2 = \"我很開心\"\n",
    "\n",
    "embedding1 = embed_text(\n",
    "    model_name=MODEL,\n",
    "    task_type=TASK,\n",
    "    text=TEXT1,\n",
    "    title=TITLE,\n",
    "    output_dimensionality=OUTPUT_DIMENSIONALITY,\n",
    ")\n",
    "embedding2 = embed_text(\n",
    "    model_name=MODEL,\n",
    "    task_type=TASK,\n",
    "    text=TEXT2,\n",
    "    title=TITLE,\n",
    "    output_dimensionality=OUTPUT_DIMENSIONALITY,\n",
    ")\n",
    "\n",
    "\n",
    "print(embedding1[:5])\n",
    "print(embedding2[:5])\n",
    "\n",
    "similarity = cosine_similarity(embedding1, embedding2)\n",
    "print(f\"Similarity between '{TEXT1}' and '{TEXT2}': {similarity:.4f}\")"
   ]
  },
  {
   "cell_type": "code",
   "execution_count": 27,
   "metadata": {},
   "outputs": [
    {
     "name": "stdout",
     "output_type": "stream",
     "text": [
      "[0.012177991680800915, 0.00998682714998722, 0.015519461594522, 0.0241247545927763, 0.04559287056326866]\n",
      "[0.0038432718720287085, -0.021820055320858955, 0.036357633769512177, 0.02820320427417755, -0.0013248010072857141]\n"
     ]
    }
   ],
   "source": [
    "# Switch to text-multilingual-embedding-002\n",
    "MODEL = \"text-multilingual-embedding-002\"\n",
    "\n",
    "embedding1 = embed_text(\n",
    "    model_name=MODEL,\n",
    "    task_type=TASK,\n",
    "    text=TEXT1,\n",
    "    title=TITLE,\n",
    "    output_dimensionality=OUTPUT_DIMENSIONALITY,\n",
    ")\n",
    "embedding2 = embed_text(\n",
    "    model_name=MODEL,\n",
    "    task_type=TASK,\n",
    "    text=TEXT2,\n",
    "    title=TITLE,\n",
    "    output_dimensionality=OUTPUT_DIMENSIONALITY,\n",
    ")\n",
    "\n",
    "print(embedding1[:5])\n",
    "print(embedding2[:5])\n"
   ]
  },
  {
   "cell_type": "code",
   "execution_count": null,
   "metadata": {},
   "outputs": [],
   "source": []
  }
 ],
 "metadata": {
  "kernelspec": {
   "display_name": "lab_gemini",
   "language": "python",
   "name": "python3"
  },
  "language_info": {
   "codemirror_mode": {
    "name": "ipython",
    "version": 3
   },
   "file_extension": ".py",
   "mimetype": "text/x-python",
   "name": "python",
   "nbconvert_exporter": "python",
   "pygments_lexer": "ipython3",
   "version": "3.10.13"
  }
 },
 "nbformat": 4,
 "nbformat_minor": 2
}
