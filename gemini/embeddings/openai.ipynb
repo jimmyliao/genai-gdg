{
 "cells": [
  {
   "cell_type": "code",
   "execution_count": 1,
   "metadata": {},
   "outputs": [],
   "source": [
    "# Use OpenAI Embedding \n",
    "import numpy as np\n",
    "from openai import OpenAI"
   ]
  },
  {
   "cell_type": "code",
   "execution_count": 2,
   "metadata": {},
   "outputs": [],
   "source": [
    "OPENAI_API_KEY=\"\""
   ]
  },
  {
   "cell_type": "code",
   "execution_count": 3,
   "metadata": {},
   "outputs": [],
   "source": [
    "openaiclient = OpenAI(api_key=OPENAI_API_KEY)"
   ]
  },
  {
   "cell_type": "code",
   "execution_count": 4,
   "metadata": {},
   "outputs": [],
   "source": [
    "def get_embedding(text):\n",
    "    print(text)\n",
    "    embedding = openaiclient.embeddings.create(input=text, model='text-embedding-3-small').data[0].embedding\n",
    "    print(str(embedding)[:80], '... TRIMMED]')\n",
    "    return embedding"
   ]
  },
  {
   "cell_type": "code",
   "execution_count": 5,
   "metadata": {},
   "outputs": [],
   "source": [
    "def cosine_similarity(a, b):\n",
    "  return np.dot(a, b) / (np.linalg.norm(a) * np.linalg.norm(b))"
   ]
  },
  {
   "cell_type": "code",
   "execution_count": 8,
   "metadata": {},
   "outputs": [
    {
     "name": "stdout",
     "output_type": "stream",
     "text": [
      "今天天氣很好\n",
      "[0.02562892623245716, -0.0038970678579062223, -0.03431369364261627, -0.001905331 ... TRIMMED]\n",
      "我很開心\n",
      "[0.05783351883292198, -0.020593922585248947, -0.043300993740558624, 0.0397049337 ... TRIMMED]\n",
      "相似度: 0.4683221404438609\n",
      "\n"
     ]
    }
   ],
   "source": [
    "# print(f\"相似度: {cosine_similarity(get_embedding(\"今天天氣很好\"), get_embedding(\"我很開心\"))}\\n\")\n",
    "\n",
    "text1 = \"今天天氣很好\"\n",
    "text2 = \"我很開心\"\n",
    "\n",
    "embedding1 = get_embedding(text1)\n",
    "embedding2 = get_embedding(text2)\n",
    "\n",
    "print(f\"相似度: {cosine_similarity(embedding1, embedding2)}\\n\")\n"
   ]
  },
  {
   "cell_type": "code",
   "execution_count": null,
   "metadata": {},
   "outputs": [],
   "source": []
  }
 ],
 "metadata": {
  "kernelspec": {
   "display_name": "lab_gemini",
   "language": "python",
   "name": "python3"
  },
  "language_info": {
   "codemirror_mode": {
    "name": "ipython",
    "version": 3
   },
   "file_extension": ".py",
   "mimetype": "text/x-python",
   "name": "python",
   "nbconvert_exporter": "python",
   "pygments_lexer": "ipython3",
   "version": "3.10.13"
  }
 },
 "nbformat": 4,
 "nbformat_minor": 2
}
