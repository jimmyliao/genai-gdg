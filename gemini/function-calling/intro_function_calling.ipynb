{
  "cells": [
    {
      "cell_type": "code",
      "execution_count": null,
      "metadata": {
        "id": "ijGzTHJJUCPY",
        "tags": []
      },
      "outputs": [],
      "source": [
        "# Copyright 2024 Google LLC\n",
        "#\n",
        "# Licensed under the Apache License, Version 2.0 (the \"License\");\n",
        "# you may not use this file except in compliance with the License.\n",
        "# You may obtain a copy of the License at\n",
        "#\n",
        "#     https://www.apache.org/licenses/LICENSE-2.0\n",
        "#\n",
        "# Unless required by applicable law or agreed to in writing, software\n",
        "# distributed under the License is distributed on an \"AS IS\" BASIS,\n",
        "# WITHOUT WARRANTIES OR CONDITIONS OF ANY KIND, either express or implied.\n",
        "# See the License for the specific language governing permissions and\n",
        "# limitations under the License."
      ]
    },
    {
      "cell_type": "markdown",
      "metadata": {
        "id": "VEqbX8OhE8y9"
      },
      "source": [
        "# Function Calling with the Vertex AI Gemini API & Python SDK\n",
        "\n",
        "<table align=\"left\">\n",
        "  <td style=\"text-align: center\">\n",
        "    <a href=\"https://colab.research.google.com/github/GoogleCloudPlatform/generative-ai/blob/main/gemini/function-calling/intro_function_calling.ipynb\">\n",
        "      <img src=\"https://cloud.google.com/ml-engine/images/colab-logo-32px.png\" alt=\"Google Colaboratory logo\"><br> Run in Colab\n",
        "    </a>\n",
        "  </td>\n",
        "  <td style=\"text-align: center\">\n",
        "    <a href=\"https://console.cloud.google.com/vertex-ai/colab/import/https:%2F%2Fraw.githubusercontent.com%2FGoogleCloudPlatform%2Fgenerative-ai%2Fmain%2Fgemini%2Ffunction-calling%2Fintro_function_calling.ipynb\">\n",
        "      <img width=\"32px\" src=\"https://lh3.googleusercontent.com/JmcxdQi-qOpctIvWKgPtrzZdJJK-J3sWE1RsfjZNwshCFgE_9fULcNpuXYTilIR2hjwN\" alt=\"Google Cloud Colab Enterprise logo\"><br> Run in Colab Enterprise\n",
        "    </a>\n",
        "  </td>      \n",
        "  <td style=\"text-align: center\">\n",
        "    <a href=\"https://github.com/GoogleCloudPlatform/generative-ai/blob/main/gemini/function-calling/intro_function_calling.ipynb\">\n",
        "      <img src=\"https://cloud.google.com/ml-engine/images/github-logo-32px.png\" alt=\"GitHub logo\"><br> View on GitHub\n",
        "    </a>\n",
        "  </td>\n",
        "  <td style=\"text-align: center\">\n",
        "    <a href=\"https://console.cloud.google.com/vertex-ai/workbench/deploy-notebook?download_url=https://raw.githubusercontent.com/GoogleCloudPlatform/generative-ai/main/gemini/function-calling/intro_function_calling.ipynb\">\n",
        "      <img src=\"https://lh3.googleusercontent.com/UiNooY4LUgW_oTvpsNhPpQzsstV5W8F7rYgxgGBD85cWJoLmrOzhVs_ksK_vgx40SHs7jCqkTkCk=e14-rj-sc0xffffff-h130-w32\" alt=\"Vertex AI logo\"><br> Open in Vertex AI Workbench\n",
        "    </a>\n",
        "  </td>\n",
        "</table>\n"
      ]
    },
    {
      "cell_type": "markdown",
      "metadata": {
        "id": "htKVhbvwIzk5"
      },
      "source": [
        "| | |\n",
        "|-|-|\n",
        "|Author(s) | [Kristopher Overholt](https://github.com/koverholt) |"
      ]
    },
    {
      "cell_type": "markdown",
      "metadata": {
        "id": "CkHPv2myT2cx"
      },
      "source": [
        "## Overview\n",
        "\n",
        "### Gemini\n",
        "\n",
        "Gemini is a family of generative AI models developed by Google DeepMind that is designed for multimodal use cases.\n",
        "\n",
        "### Calling functions from Gemini\n",
        "\n",
        "[Function calling](https://cloud.google.com/vertex-ai/docs/generative-ai/multimodal/function-calling) lets developers create a description of a function in their code, then pass that description to a language model in a request. The response from the model includes the name of a function that matches the description and the arguments to call it with.\n",
        "\n",
        "Function calling is similar to [Vertex AI Extensions](https://cloud.google.com/vertex-ai/docs/generative-ai/extensions/overview) in that they both generate information about functions. The difference between them is that function calling returns JSON data with the name of a function and the arguments to use in your code, whereas Vertex AI Extensions returns the function and calls it for you."
      ]
    },
    {
      "cell_type": "markdown",
      "metadata": {
        "id": "DrkcqHrrwMAo"
      },
      "source": [
        "### Objectives\n",
        "\n",
        "In this tutorial, you will learn how to use the Vertex AI Gemini API with the Vertex AI SDK for Python to make function calls via the Gemini 1.0 Pro (`gemini-1.0-pro`) model.\n",
        "\n",
        "You will complete the following tasks:\n",
        "\n",
        "- Install the Vertex AI SDK for Python\n",
        "- Use the Vertex AI Gemini API to interact with the Gemini 1.0 Pro (`gemini-1.0-pro`) model:\n",
        "    - Generate function calls from a text prompt to get the weather for a given location\n",
        "    - Generate function calls from a text prompt and call an external API to geocode addresses\n",
        "    - Generate function calls from a chat prompt to help retail users"
      ]
    },
    {
      "cell_type": "markdown",
      "metadata": {
        "id": "C9nEPojogw-g"
      },
      "source": [
        "### Costs\n",
        "\n",
        "This tutorial uses billable components of Google Cloud:\n",
        "\n",
        "- Vertex AI\n",
        "\n",
        "Learn about [Vertex AI pricing](https://cloud.google.com/vertex-ai/pricing) and use the [Pricing Calculator](https://cloud.google.com/products/calculator/) to generate a cost estimate based on your projected usage.\n"
      ]
    },
    {
      "cell_type": "markdown",
      "metadata": {
        "id": "r11Gu7qNgx1p"
      },
      "source": [
        "## Task 1. Setup the environment\n"
      ]
    },
    {
      "cell_type": "markdown",
      "metadata": {
        "id": "No17Cw5hgx12"
      },
      "source": [
        "### Install Vertex AI SDK for Python\n"
      ]
    },
    {
      "cell_type": "code",
      "execution_count": 1,
      "metadata": {
        "id": "tFy3H3aPgx12",
        "tags": []
      },
      "outputs": [],
      "source": [
        "!pip3 install -q --upgrade --user google-cloud-aiplatform"
      ]
    },
    {
      "cell_type": "markdown",
      "metadata": {
        "id": "R5Xep4W9lq-Z"
      },
      "source": [
        "### Restart current runtime\n",
        "\n",
        "To use the newly installed packages in this Jupyter runtime, you must restart the runtime. You can do this by running the cell below, which will restart the current kernel."
      ]
    },
    {
      "cell_type": "code",
      "execution_count": null,
      "metadata": {
        "colab": {
          "base_uri": "https://localhost:8080/"
        },
        "id": "XRvKdaPDTznN",
        "outputId": "ebb9fd14-727c-4b2f-d052-f41776d677ab",
        "tags": []
      },
      "outputs": [
        {
          "data": {
            "text/plain": [
              "{'status': 'ok', 'restart': True}"
            ]
          },
          "execution_count": 3,
          "metadata": {},
          "output_type": "execute_result"
        }
      ],
      "source": [
        "# Should we really need this?\n",
        "# Restart kernel after installs so that your environment can access the new packages\n",
        "# import IPython\n",
        "# import time\n",
        "\n",
        "# app = IPython.Application.instance()\n",
        "# app.kernel.do_shutdown(True)"
      ]
    },
    {
      "cell_type": "markdown",
      "metadata": {
        "id": "SbmM4z7FOBpM"
      },
      "source": [
        "<div class=\"alert alert-block alert-warning\">\n",
        "<b>⚠️ The kernel is going to restart. Please wait until it is finished before continuing to the next step. ⚠️</b>\n",
        "</div>\n",
        "\n"
      ]
    },
    {
      "cell_type": "markdown",
      "metadata": {
        "id": "dmWOrTJ3gx13"
      },
      "source": [
        "### Authenticate your notebook environment (Colab only)\n",
        "\n",
        "If you are running this notebook on Google Colab, run the following cell to authenticate your environment. This step is not required if you are using [Vertex AI Workbench](https://cloud.google.com/vertex-ai-workbench)."
      ]
    },
    {
      "cell_type": "code",
      "execution_count": 2,
      "metadata": {
        "id": "NyKGtVQjgx13",
        "tags": []
      },
      "outputs": [],
      "source": [
        "import sys\n",
        "\n",
        "# Additional authentication is required for Google Colab\n",
        "if \"google.colab\" in sys.modules:\n",
        "    # Authenticate user to Google Cloud\n",
        "    from google.colab import auth\n",
        "\n",
        "    auth.authenticate_user()"
      ]
    },
    {
      "cell_type": "markdown",
      "metadata": {
        "id": "DF4l8DTdWgPY"
      },
      "source": [
        "### Define Google Cloud project information and initialize Vertex AI\n",
        "\n",
        "Initialize the Vertex AI SDK for Python for your project:"
      ]
    },
    {
      "cell_type": "code",
      "execution_count": 3,
      "metadata": {
        "id": "Nqwi-5ufWp_B",
        "tags": []
      },
      "outputs": [],
      "source": [
        "# Define project information\n",
        "PROJECT_ID = \"gen-lang-client-0790962798\"  # @param {type:\"string\"}\n",
        "LOCATION = \"us-central1\"  # @param {type:\"string\"}\n",
        "\n",
        "# Initialize Vertex AI\n",
        "import vertexai\n",
        "\n",
        "vertexai.init(project=PROJECT_ID, location=LOCATION)"
      ]
    },
    {
      "cell_type": "markdown",
      "metadata": {
        "id": "jXHfaVS66_01"
      },
      "source": [
        "### Import libraries\n"
      ]
    },
    {
      "cell_type": "code",
      "execution_count": 4,
      "metadata": {
        "id": "lslYAvw37JGQ",
        "tags": []
      },
      "outputs": [],
      "source": [
        "import requests\n",
        "from vertexai.generative_models import (\n",
        "    Content,\n",
        "    FunctionDeclaration,\n",
        "    GenerativeModel,\n",
        "    Part,\n",
        "    Tool,\n",
        ")"
      ]
    },
    {
      "cell_type": "markdown",
      "metadata": {
        "id": "L-CwF8yrIzk8"
      },
      "source": [
        "## Code Examples\n",
        "\n",
        "### Why function calling?\n",
        "\n",
        "When working with a generative text model, it can be difficult to coerce the LLM to give consistent responses in a structured format such as JSON. Function calling makes it easy to work with LLMs via prompts and unstructured inputs, and have the LLM return a structured response that can be used to call an external function.\n",
        "\n",
        "You can think of function calling as a way to get structured output from user prompts and function definitions, use that structured output to make an API request to an external system, then return the function response to the LLM to generate a response to the user. In other words, function calling in Gemini extracts structured parameters from unstructured text or messages from users."
      ]
    },
    {
      "cell_type": "markdown",
      "metadata": {
        "id": "4437b7608c8e"
      },
      "source": [
        "### Use the Gemini 1.0 Pro model\n",
        "\n",
        "The Gemini 1.0 Pro (`gemini-1.0-pro`) model is designed to handle natural language tasks, multiturn text and code chat, and code generation."
      ]
    },
    {
      "cell_type": "code",
      "execution_count": 5,
      "metadata": {
        "id": "2998506fe6d1",
        "tags": []
      },
      "outputs": [],
      "source": [
        "model = GenerativeModel(\"gemini-1.0-pro\")"
      ]
    },
    {
      "cell_type": "markdown",
      "metadata": {
        "id": "xiQgsuqMIzk8"
      },
      "source": [
        "### Task 2. Simple function calling example: The weather"
      ]
    },
    {
      "cell_type": "markdown",
      "metadata": {
        "id": "uVJB49fqIzk8"
      },
      "source": [
        "To begin, you'll use function calling to set up a weather API request for users to obtain the current conditions in a given location. Function parameters are specified as a Python dictionary in accordance with the [OpenAPI JSON schema format](https://spec.openapis.org/oas/v3.0.3#schemawr).\n",
        "\n",
        "Consider an example weather API function that takes in an argument for the user's location, as in:\n",
        "\n",
        "```python\n",
        "def get_current_weather(location):\n",
        "    ...\n",
        "```\n",
        "\n",
        "You'll start by specifying a function declaration and parameters needed to make a request our example weather API:"
      ]
    },
    {
      "cell_type": "code",
      "execution_count": 6,
      "metadata": {
        "id": "r02tRUxpIzk8",
        "tags": []
      },
      "outputs": [],
      "source": [
        "get_current_weather_func = FunctionDeclaration(\n",
        "    name=\"get_current_weather\",\n",
        "    description=\"Get the current weather in a given location\",\n",
        "    parameters={\n",
        "        \"type\": \"object\",\n",
        "        \"properties\": {\"location\": {\"type\": \"string\", \"description\": \"Location\"}},\n",
        "    },\n",
        ")"
      ]
    },
    {
      "cell_type": "markdown",
      "metadata": {
        "id": "fQPSTAV8Izk9"
      },
      "source": [
        "You can then define a tool for the LLM to call that includes the `get_current_weather_func`:"
      ]
    },
    {
      "cell_type": "code",
      "execution_count": 7,
      "metadata": {
        "id": "JVfDn0dQIzk9",
        "tags": []
      },
      "outputs": [],
      "source": [
        "weather_tool = Tool(\n",
        "    function_declarations=[get_current_weather_func],\n",
        ")"
      ]
    },
    {
      "cell_type": "markdown",
      "metadata": {
        "id": "1-Z95UeSIzk9"
      },
      "source": [
        "You can then instruct the model to generate content, include the `tool` that you just created, to generate a response:"
      ]
    },
    {
      "cell_type": "code",
      "execution_count": 8,
      "metadata": {
        "colab": {
          "base_uri": "https://localhost:8080/"
        },
        "id": "6chdNkPFIzk9",
        "outputId": "a163d5fa-c526-4553-cd94-14c7bdca8a1e",
        "tags": []
      },
      "outputs": [
        {
          "data": {
            "text/plain": [
              "candidates {\n",
              "  content {\n",
              "    role: \"model\"\n",
              "    parts {\n",
              "      function_call {\n",
              "        name: \"get_current_weather\"\n",
              "        args {\n",
              "          fields {\n",
              "            key: \"location\"\n",
              "            value {\n",
              "              string_value: \"Boston\"\n",
              "            }\n",
              "          }\n",
              "        }\n",
              "      }\n",
              "    }\n",
              "  }\n",
              "  finish_reason: STOP\n",
              "  safety_ratings {\n",
              "    category: HARM_CATEGORY_HATE_SPEECH\n",
              "    probability: NEGLIGIBLE\n",
              "    probability_score: 0.06030764430761337\n",
              "    severity: HARM_SEVERITY_NEGLIGIBLE\n",
              "    severity_score: 0.07709969580173492\n",
              "  }\n",
              "  safety_ratings {\n",
              "    category: HARM_CATEGORY_DANGEROUS_CONTENT\n",
              "    probability: NEGLIGIBLE\n",
              "    probability_score: 0.16681109368801117\n",
              "    severity: HARM_SEVERITY_NEGLIGIBLE\n",
              "    severity_score: 0.1563623547554016\n",
              "  }\n",
              "  safety_ratings {\n",
              "    category: HARM_CATEGORY_HARASSMENT\n",
              "    probability: NEGLIGIBLE\n",
              "    probability_score: 0.09318171441555023\n",
              "    severity: HARM_SEVERITY_NEGLIGIBLE\n",
              "    severity_score: 0.07654563337564468\n",
              "  }\n",
              "  safety_ratings {\n",
              "    category: HARM_CATEGORY_SEXUALLY_EXPLICIT\n",
              "    probability: NEGLIGIBLE\n",
              "    probability_score: 0.04146227240562439\n",
              "    severity: HARM_SEVERITY_NEGLIGIBLE\n",
              "    severity_score: 0.06941547244787216\n",
              "  }\n",
              "}\n",
              "usage_metadata {\n",
              "  prompt_token_count: 23\n",
              "  candidates_token_count: 7\n",
              "  total_token_count: 30\n",
              "}"
            ]
          },
          "execution_count": 8,
          "metadata": {},
          "output_type": "execute_result"
        }
      ],
      "source": [
        "prompt = \"What is the weather like in Boston?\"\n",
        "\n",
        "response = model.generate_content(\n",
        "    prompt,\n",
        "    generation_config={\"temperature\": 0},\n",
        "    tools=[weather_tool],\n",
        ")\n",
        "\n",
        "response"
      ]
    },
    {
      "cell_type": "markdown",
      "metadata": {
        "id": "R2nLAV0zIzk9"
      },
      "source": [
        "You can inspect the function call portion of the response:"
      ]
    },
    {
      "cell_type": "code",
      "execution_count": 9,
      "metadata": {
        "colab": {
          "base_uri": "https://localhost:8080/"
        },
        "id": "QXt4Zjz5Izk9",
        "outputId": "80d87df0-fe94-461d-d2fb-6e407bae81e5",
        "tags": []
      },
      "outputs": [
        {
          "data": {
            "text/plain": [
              "name: \"get_current_weather\"\n",
              "args {\n",
              "  fields {\n",
              "    key: \"location\"\n",
              "    value {\n",
              "      string_value: \"Boston\"\n",
              "    }\n",
              "  }\n",
              "}"
            ]
          },
          "execution_count": 9,
          "metadata": {},
          "output_type": "execute_result"
        }
      ],
      "source": [
        "response.candidates[0].content.parts[0].function_call"
      ]
    },
    {
      "cell_type": "markdown",
      "metadata": {
        "id": "vB-vxjyeIzk9"
      },
      "source": [
        "The response includes a function signature that can be used to call the weather API. At this point, you have everything that you need to form a request body and make an API call to an external system. Nice work!"
      ]
    },
    {
      "cell_type": "markdown",
      "metadata": {
        "id": "rWklTR2fIzk9"
      },
      "source": [
        "### Task 3. Complex function calling example: Get geolocation from address"
      ]
    },
    {
      "cell_type": "markdown",
      "metadata": {
        "id": "AUF1nsx9Izk9"
      },
      "source": [
        "In this example, you'll generate a function call that has a more complex structure. You'll use the function response to make an API call that converts an address to latitude and longitude coordinates.\n",
        "\n",
        "Start by defining a function declaration within a tool:"
      ]
    },
    {
      "cell_type": "code",
      "execution_count": 10,
      "metadata": {
        "id": "ZKrICInkIzk9",
        "tags": []
      },
      "outputs": [],
      "source": [
        "get_location = FunctionDeclaration(\n",
        "    name=\"get_location\",\n",
        "    description=\"Get latitude and longitude for a given location\",\n",
        "    parameters={\n",
        "        \"type\": \"object\",\n",
        "        \"properties\": {\n",
        "            \"poi\": {\"type\": \"string\", \"description\": \"Point of interest\"},\n",
        "            \"street\": {\"type\": \"string\", \"description\": \"Street name\"},\n",
        "            \"city\": {\"type\": \"string\", \"description\": \"City name\"},\n",
        "            \"county\": {\"type\": \"string\", \"description\": \"County name\"},\n",
        "            \"state\": {\"type\": \"string\", \"description\": \"State name\"},\n",
        "            \"country\": {\"type\": \"string\", \"description\": \"Country name\"},\n",
        "            \"postal_code\": {\"type\": \"string\", \"description\": \"Postal code\"},\n",
        "        },\n",
        "    },\n",
        ")\n",
        "\n",
        "location_tool = Tool(\n",
        "    function_declarations=[get_location],\n",
        ")"
      ]
    },
    {
      "cell_type": "markdown",
      "metadata": {
        "id": "c8hy21jDIzk-"
      },
      "source": [
        "Now you can call the model to generate a response:"
      ]
    },
    {
      "cell_type": "code",
      "execution_count": 11,
      "metadata": {
        "colab": {
          "base_uri": "https://localhost:8080/"
        },
        "id": "XKRNMjEVIzk-",
        "outputId": "b5c2e4eb-9274-4f11-8b93-5307922b748e",
        "tags": []
      },
      "outputs": [
        {
          "data": {
            "text/plain": [
              "function_call {\n",
              "  name: \"get_location\"\n",
              "  args {\n",
              "    fields {\n",
              "      key: \"city\"\n",
              "      value {\n",
              "        string_value: \"Mountain View\"\n",
              "      }\n",
              "    }\n",
              "    fields {\n",
              "      key: \"country\"\n",
              "      value {\n",
              "        string_value: \"US\"\n",
              "      }\n",
              "    }\n",
              "    fields {\n",
              "      key: \"postal_code\"\n",
              "      value {\n",
              "        string_value: \"94043\"\n",
              "      }\n",
              "    }\n",
              "    fields {\n",
              "      key: \"state\"\n",
              "      value {\n",
              "        string_value: \"CA\"\n",
              "      }\n",
              "    }\n",
              "    fields {\n",
              "      key: \"street\"\n",
              "      value {\n",
              "        string_value: \"1600 Amphitheatre Pkwy\"\n",
              "      }\n",
              "    }\n",
              "  }\n",
              "}"
            ]
          },
          "execution_count": 11,
          "metadata": {},
          "output_type": "execute_result"
        }
      ],
      "source": [
        "prompt = \"\"\"\n",
        "I want to get the lat/lon coordinates for the following address:\n",
        "1600 Amphitheatre Pkwy, Mountain View, CA 94043, US\n",
        "\"\"\"\n",
        "\n",
        "response = model.generate_content(\n",
        "    prompt,\n",
        "    generation_config={\"temperature\": 0},\n",
        "    tools=[location_tool],\n",
        ")\n",
        "response.candidates[0].content.parts[0]"
      ]
    },
    {
      "cell_type": "markdown",
      "metadata": {
        "id": "LuCXg2aNIzk-"
      },
      "source": [
        "You can now extract the results from the function response and make an API call.\n",
        "\n",
        "\n",
        "Great work! You were able to construct a function and tool that the LLM used to output the parameters necessary for a function call, then you actually made the function call to obtain the coordinates of the specified location."
      ]
    },
    {
      "cell_type": "markdown",
      "metadata": {
        "id": "L2-ya91IIzk-"
      },
      "source": [
        "#### Use OpenStreetMap Nominatim API\n",
        "Here we used the [OpenStreetMap Nominatim API](https://nominatim.openstreetmap.org/ui/search.html) to geocode an address to make it easy to use and learn in this notebook. If you're working with large amounts of maps or geolocation data, you can use the [Google Maps Geocoding API](https://developers.google.com/maps/documentation/geocoding)."
      ]
    },
    {
      "cell_type": "code",
      "execution_count": 13,
      "metadata": {
        "colab": {
          "base_uri": "https://localhost:8080/"
        },
        "id": "B4W7NWJ-Izk-",
        "outputId": "4f333c41-8455-49f6-a8b6-eeece42b3cdd",
        "tags": []
      },
      "outputs": [
        {
          "data": {
            "text/plain": [
              "[{'place_id': 377680635,\n",
              "  'licence': 'Data © OpenStreetMap contributors, ODbL 1.0. http://osm.org/copyright',\n",
              "  'osm_type': 'node',\n",
              "  'osm_id': 2192620021,\n",
              "  'lat': '37.4217636',\n",
              "  'lon': '-122.084614',\n",
              "  'category': 'office',\n",
              "  'type': 'it',\n",
              "  'place_rank': 30,\n",
              "  'importance': 0.6949356759210291,\n",
              "  'addresstype': 'office',\n",
              "  'name': 'Google Headquarters',\n",
              "  'display_name': 'Google Headquarters, 1600, Amphitheatre Parkway, Mountain View, Santa Clara County, California, 94043, United States',\n",
              "  'boundingbox': ['37.4217136', '37.4218136', '-122.0846640', '-122.0845640']}]"
            ]
          },
          "execution_count": 13,
          "metadata": {},
          "output_type": "execute_result"
        }
      ],
      "source": [
        "x = response.candidates[0].content.parts[0].function_call.args\n",
        "\n",
        "agentheader={'User-Agent': 'PostmanRuntime/7.28.4'}\n",
        "\n",
        "url = \"https://nominatim.openstreetmap.org/search?\"\n",
        "for i in x:\n",
        "    url += '{}={}&'.format(i, x[i].replace(\" \", \"%20\"))\n",
        "url += \"format=jsonv2\"\n",
        "\n",
        "# url\n",
        "x = requests.get(url, headers=agentheader)\n",
        "x\n",
        "content = x.json()\n",
        "content"
      ]
    },
    {
      "cell_type": "code",
      "execution_count": 25,
      "metadata": {
        "id": "05kiIBbQYKHK"
      },
      "outputs": [],
      "source": [
        "# Draw the map\n",
        "!pip install -q folium\n",
        "import folium"
      ]
    },
    {
      "cell_type": "code",
      "execution_count": 36,
      "metadata": {
        "colab": {
          "base_uri": "https://localhost:8080/",
          "height": 830
        },
        "id": "_GWogbfoYNwN",
        "outputId": "8cc7b81b-0aee-492f-e088-4ee36513fc0c"
      },
      "outputs": [
        {
          "data": {
            "text/html": [
              "<div style=\"width:100%;\"><div style=\"position:relative;width:100%;height:0;padding-bottom:60%;\"><span style=\"color:#565656\">Make this Notebook Trusted to load map: File -> Trust Notebook</span><iframe srcdoc=\"&lt;!DOCTYPE html&gt;\n",
              "&lt;html&gt;\n",
              "&lt;head&gt;\n",
              "    \n",
              "    &lt;meta http-equiv=&quot;content-type&quot; content=&quot;text/html; charset=UTF-8&quot; /&gt;\n",
              "    \n",
              "        &lt;script&gt;\n",
              "            L_NO_TOUCH = false;\n",
              "            L_DISABLE_3D = false;\n",
              "        &lt;/script&gt;\n",
              "    \n",
              "    &lt;style&gt;html, body {width: 100%;height: 100%;margin: 0;padding: 0;}&lt;/style&gt;\n",
              "    &lt;style&gt;#map {position:absolute;top:0;bottom:0;right:0;left:0;}&lt;/style&gt;\n",
              "    &lt;script src=&quot;https://cdn.jsdelivr.net/npm/leaflet@1.9.3/dist/leaflet.js&quot;&gt;&lt;/script&gt;\n",
              "    &lt;script src=&quot;https://code.jquery.com/jquery-1.12.4.min.js&quot;&gt;&lt;/script&gt;\n",
              "    &lt;script src=&quot;https://cdn.jsdelivr.net/npm/bootstrap@5.2.2/dist/js/bootstrap.bundle.min.js&quot;&gt;&lt;/script&gt;\n",
              "    &lt;script src=&quot;https://cdnjs.cloudflare.com/ajax/libs/Leaflet.awesome-markers/2.0.2/leaflet.awesome-markers.js&quot;&gt;&lt;/script&gt;\n",
              "    &lt;link rel=&quot;stylesheet&quot; href=&quot;https://cdn.jsdelivr.net/npm/leaflet@1.9.3/dist/leaflet.css&quot;/&gt;\n",
              "    &lt;link rel=&quot;stylesheet&quot; href=&quot;https://cdn.jsdelivr.net/npm/bootstrap@5.2.2/dist/css/bootstrap.min.css&quot;/&gt;\n",
              "    &lt;link rel=&quot;stylesheet&quot; href=&quot;https://netdna.bootstrapcdn.com/bootstrap/3.0.0/css/bootstrap.min.css&quot;/&gt;\n",
              "    &lt;link rel=&quot;stylesheet&quot; href=&quot;https://cdn.jsdelivr.net/npm/@fortawesome/fontawesome-free@6.2.0/css/all.min.css&quot;/&gt;\n",
              "    &lt;link rel=&quot;stylesheet&quot; href=&quot;https://cdnjs.cloudflare.com/ajax/libs/Leaflet.awesome-markers/2.0.2/leaflet.awesome-markers.css&quot;/&gt;\n",
              "    &lt;link rel=&quot;stylesheet&quot; href=&quot;https://cdn.jsdelivr.net/gh/python-visualization/folium/folium/templates/leaflet.awesome.rotate.min.css&quot;/&gt;\n",
              "    \n",
              "            &lt;meta name=&quot;viewport&quot; content=&quot;width=device-width,\n",
              "                initial-scale=1.0, maximum-scale=1.0, user-scalable=no&quot; /&gt;\n",
              "            &lt;style&gt;\n",
              "                #map_5c1c51d4f3754d01a625c258cbaa2068 {\n",
              "                    position: relative;\n",
              "                    width: 100.0%;\n",
              "                    height: 100.0%;\n",
              "                    left: 0.0%;\n",
              "                    top: 0.0%;\n",
              "                }\n",
              "                .leaflet-container { font-size: 1rem; }\n",
              "            &lt;/style&gt;\n",
              "        \n",
              "&lt;/head&gt;\n",
              "&lt;body&gt;\n",
              "    \n",
              "    \n",
              "            &lt;div class=&quot;folium-map&quot; id=&quot;map_5c1c51d4f3754d01a625c258cbaa2068&quot; &gt;&lt;/div&gt;\n",
              "        \n",
              "&lt;/body&gt;\n",
              "&lt;script&gt;\n",
              "    \n",
              "    \n",
              "            var map_5c1c51d4f3754d01a625c258cbaa2068 = L.map(\n",
              "                &quot;map_5c1c51d4f3754d01a625c258cbaa2068&quot;,\n",
              "                {\n",
              "                    center: [37.4217636, -122.084614],\n",
              "                    crs: L.CRS.EPSG3857,\n",
              "                    zoom: 30,\n",
              "                    zoomControl: true,\n",
              "                    preferCanvas: false,\n",
              "                }\n",
              "            );\n",
              "\n",
              "            \n",
              "\n",
              "        \n",
              "    \n",
              "            var tile_layer_9287a5587defd9df760c5ab99d3b9427 = L.tileLayer(\n",
              "                &quot;https://{s}.tile.openstreetmap.org/{z}/{x}/{y}.png&quot;,\n",
              "                {&quot;attribution&quot;: &quot;Data by \\u0026copy; \\u003ca target=\\&quot;_blank\\&quot; href=\\&quot;http://openstreetmap.org\\&quot;\\u003eOpenStreetMap\\u003c/a\\u003e, under \\u003ca target=\\&quot;_blank\\&quot; href=\\&quot;http://www.openstreetmap.org/copyright\\&quot;\\u003eODbL\\u003c/a\\u003e.&quot;, &quot;detectRetina&quot;: false, &quot;maxNativeZoom&quot;: 18, &quot;maxZoom&quot;: 18, &quot;minZoom&quot;: 0, &quot;noWrap&quot;: false, &quot;opacity&quot;: 1, &quot;subdomains&quot;: &quot;abc&quot;, &quot;tms&quot;: false}\n",
              "            ).addTo(map_5c1c51d4f3754d01a625c258cbaa2068);\n",
              "        \n",
              "    \n",
              "            var marker_981c0f84c0914aef65c05e0b99fb45c6 = L.marker(\n",
              "                [37.4217636, -122.084614],\n",
              "                {}\n",
              "            ).addTo(map_5c1c51d4f3754d01a625c258cbaa2068);\n",
              "        \n",
              "&lt;/script&gt;\n",
              "&lt;/html&gt;\" style=\"position:absolute;width:100%;height:100%;left:0;top:0;border:none !important;\" allowfullscreen webkitallowfullscreen mozallowfullscreen></iframe></div></div>"
            ],
            "text/plain": [
              "<folium.folium.Map at 0x79a41084e2f0>"
            ]
          },
          "metadata": {},
          "output_type": "display_data"
        }
      ],
      "source": [
        "# Display the map\n",
        "location = content[0]\n",
        "\n",
        "my_map = folium.Map(\n",
        "    location=(location.get('lat'), location.get('lon')),\n",
        "    zoom_start=30\n",
        ")\n",
        "\n",
        "folium.Marker(location=(location.get('lat'),location.get('lon'))).add_to(my_map)\n",
        "\n",
        "\n",
        "display(my_map)"
      ]
    },
    {
      "cell_type": "markdown",
      "metadata": {
        "id": "-xpm8opEIzlJ"
      },
      "source": [
        "### Task 4. Function calling in a chat session"
      ]
    },
    {
      "cell_type": "markdown",
      "metadata": {
        "id": "QBWHer6GIzlJ"
      },
      "source": [
        "In this example, you'll use the chat model in Gemini to help customers get information about products in a store.\n",
        "\n",
        "You'll start by defining multiple functions within a tool for getting product information, getting the location of stores, and placing an order:"
      ]
    },
    {
      "cell_type": "code",
      "execution_count": 14,
      "metadata": {
        "id": "YD9wYRJrIzlJ",
        "tags": []
      },
      "outputs": [],
      "source": [
        "get_product_info_func = FunctionDeclaration(\n",
        "    name=\"get_product_sku\",\n",
        "    description=\"Get the SKU for a product\",\n",
        "    parameters={\n",
        "        \"type\": \"object\",\n",
        "        \"properties\": {\n",
        "            \"product_name\": {\"type\": \"string\", \"description\": \"Product name\"}\n",
        "        },\n",
        "    },\n",
        ")\n",
        "\n",
        "get_store_location_func = FunctionDeclaration(\n",
        "    name=\"get_store_location\",\n",
        "    description=\"Get the location of the closest store\",\n",
        "    parameters={\n",
        "        \"type\": \"object\",\n",
        "        \"properties\": {\"location\": {\"type\": \"string\", \"description\": \"Location\"}},\n",
        "    },\n",
        ")\n",
        "\n",
        "place_order_func = FunctionDeclaration(\n",
        "    name=\"place_order\",\n",
        "    description=\"Place an order\",\n",
        "    parameters={\n",
        "        \"type\": \"object\",\n",
        "        \"properties\": {\n",
        "            \"product\": {\"type\": \"string\", \"description\": \"Product name\"},\n",
        "            \"address\": {\"type\": \"string\", \"description\": \"Shipping address\"},\n",
        "        },\n",
        "    },\n",
        ")\n",
        "\n",
        "retail_tool = Tool(\n",
        "    function_declarations=[\n",
        "        get_product_info_func,\n",
        "        get_store_location_func,\n",
        "        place_order_func,\n",
        "    ],\n",
        ")"
      ]
    },
    {
      "cell_type": "markdown",
      "metadata": {
        "id": "sb2mBid9IzlJ"
      },
      "source": [
        "Note that you can also use function calling in a multi-turn chat session, and you can specify tools when creating a model to avoid having to send them with every request:"
      ]
    },
    {
      "cell_type": "code",
      "execution_count": 15,
      "metadata": {
        "id": "i_iiI16EIzlJ",
        "tags": []
      },
      "outputs": [],
      "source": [
        "model = GenerativeModel(\n",
        "    \"gemini-1.0-pro\", generation_config={\"temperature\": 0}, tools=[retail_tool]\n",
        ")\n",
        "chat = model.start_chat()"
      ]
    },
    {
      "cell_type": "markdown",
      "metadata": {
        "id": "ZfaYK5HeIzlJ"
      },
      "source": [
        "Great! Let's start the conversation by asking if they have a certain product in stock:"
      ]
    },
    {
      "cell_type": "code",
      "execution_count": 16,
      "metadata": {
        "colab": {
          "base_uri": "https://localhost:8080/"
        },
        "id": "1zfkBubDIzlJ",
        "outputId": "0cca4af4-4a46-4107-9cae-9e4975639fc5",
        "tags": []
      },
      "outputs": [
        {
          "data": {
            "text/plain": [
              "function_call {\n",
              "  name: \"get_product_sku\"\n",
              "  args {\n",
              "    fields {\n",
              "      key: \"product_name\"\n",
              "      value {\n",
              "        string_value: \"Pixel 8 Pro\"\n",
              "      }\n",
              "    }\n",
              "  }\n",
              "}"
            ]
          },
          "execution_count": 16,
          "metadata": {},
          "output_type": "execute_result"
        }
      ],
      "source": [
        "prompt = \"\"\"\n",
        "Do you have the Pixel 8 Pro in stock?\n",
        "\"\"\"\n",
        "\n",
        "response = chat.send_message(prompt)\n",
        "response.candidates[0].content.parts[0]"
      ]
    },
    {
      "cell_type": "markdown",
      "metadata": {
        "id": "j-5ncQ5yIzlJ"
      },
      "source": [
        "As expected, the response includes a structured function call that we can use to communicate with external systems.\n",
        "\n",
        "In reality, you would execute function calls against an external system or database. Since this notebook focuses on the ability to extract function parameter and generate function calls, you'll use mock data to feed responses back to the model rather that using an actual API server."
      ]
    },
    {
      "cell_type": "code",
      "execution_count": 17,
      "metadata": {
        "id": "xj3MjONiIzlK",
        "tags": []
      },
      "outputs": [],
      "source": [
        "# This is where you would make an API request to return the status of their order.\n",
        "# Use synthetic data to simulate a response payload from an external API.\n",
        "\n",
        "api_response = {\"sku\": \"GA04834-US\", \"in_stock\": \"yes\"}"
      ]
    },
    {
      "cell_type": "markdown",
      "metadata": {
        "id": "D5mW3PIHIzlK"
      },
      "source": [
        "Now, let's include details from the external API call and generate a response to the user:"
      ]
    },
    {
      "cell_type": "code",
      "execution_count": 18,
      "metadata": {
        "colab": {
          "base_uri": "https://localhost:8080/"
        },
        "id": "_nIXwLYxIzlK",
        "outputId": "b6b432c6-1ea5-4a15-b5c1-38e65d4d7551",
        "tags": []
      },
      "outputs": [
        {
          "data": {
            "text/plain": [
              "text: \"Yes, we have the Pixel 8 Pro in stock. The SKU is GA04834-US.\""
            ]
          },
          "execution_count": 18,
          "metadata": {},
          "output_type": "execute_result"
        }
      ],
      "source": [
        "response = chat.send_message(\n",
        "    Part.from_function_response(\n",
        "        name=\"get_product_sku\",\n",
        "        response={\n",
        "            \"content\": api_response,\n",
        "        },\n",
        "    ),\n",
        ")\n",
        "response.candidates[0].content.parts[0]"
      ]
    },
    {
      "cell_type": "markdown",
      "metadata": {
        "id": "T9iTcdipIzlK"
      },
      "source": [
        "Next, the user might ask where they can buy a phone from a nearby store:"
      ]
    },
    {
      "cell_type": "code",
      "execution_count": 19,
      "metadata": {
        "colab": {
          "base_uri": "https://localhost:8080/"
        },
        "id": "WUiIGHaEIzlK",
        "outputId": "683b8a70-c5c4-4b1d-8bb7-405ad43356d8",
        "tags": []
      },
      "outputs": [
        {
          "data": {
            "text/plain": [
              "function_call {\n",
              "  name: \"get_store_location\"\n",
              "  args {\n",
              "    fields {\n",
              "      key: \"location\"\n",
              "      value {\n",
              "        string_value: \"Mountain View, CA\"\n",
              "      }\n",
              "    }\n",
              "  }\n",
              "}"
            ]
          },
          "execution_count": 19,
          "metadata": {},
          "output_type": "execute_result"
        }
      ],
      "source": [
        "prompt = \"\"\"\n",
        "Is there a store in Mountain View, CA that I can visit to try it out?\n",
        "\"\"\"\n",
        "\n",
        "response = chat.send_message(prompt)\n",
        "response.candidates[0].content.parts[0]"
      ]
    },
    {
      "cell_type": "markdown",
      "metadata": {
        "id": "tblU99nrIzlK"
      },
      "source": [
        "We get a response with another structured function call, this time it's set up to use a different function from our tool."
      ]
    },
    {
      "cell_type": "code",
      "execution_count": 20,
      "metadata": {
        "id": "xP8R7r9bIzlK",
        "tags": []
      },
      "outputs": [],
      "source": [
        "# This is where you would make an API request to get the location of the store closest to the user.\n",
        "# Use synthetic data to simulate a response payload from an external API.\n",
        "\n",
        "api_response = {\"store\": \"2000 N Shoreline Blvd, Mountain View, CA 94043, US\"}"
      ]
    },
    {
      "cell_type": "markdown",
      "metadata": {
        "id": "G-dB52srIzlK"
      },
      "source": [
        "Again, let's include details from the external API call and generate a response to the user:"
      ]
    },
    {
      "cell_type": "code",
      "execution_count": 21,
      "metadata": {
        "colab": {
          "base_uri": "https://localhost:8080/"
        },
        "id": "8IOn2rfYIzlK",
        "outputId": "e31164ae-1251-4a3f-e82d-917898d4b6a5",
        "tags": []
      },
      "outputs": [
        {
          "data": {
            "text/plain": [
              "text: \"Yes, there is a store in Mountain View, CA that you can visit to try out the Pixel 8 Pro. The address is 2000 N Shoreline Blvd, Mountain View, CA 94043, US.\""
            ]
          },
          "execution_count": 21,
          "metadata": {},
          "output_type": "execute_result"
        }
      ],
      "source": [
        "response = chat.send_message(\n",
        "    Part.from_function_response(\n",
        "        name=\"get_store_location\",\n",
        "        response={\n",
        "            \"content\": api_response,\n",
        "        },\n",
        "    ),\n",
        ")\n",
        "response.candidates[0].content.parts[0]"
      ]
    },
    {
      "cell_type": "markdown",
      "metadata": {
        "id": "YPDZ-YufIzlK"
      },
      "source": [
        "Finally, the user might ask to order a phone and have it shipped to an address:"
      ]
    },
    {
      "cell_type": "code",
      "execution_count": 22,
      "metadata": {
        "colab": {
          "base_uri": "https://localhost:8080/"
        },
        "id": "A7DZsPuMIzlK",
        "outputId": "791bc203-5704-4af9-f058-f0dd2edecb9e",
        "tags": []
      },
      "outputs": [
        {
          "data": {
            "text/plain": [
              "function_call {\n",
              "  name: \"place_order\"\n",
              "  args {\n",
              "    fields {\n",
              "      key: \"address\"\n",
              "      value {\n",
              "        string_value: \"1155 Borregas Ave, Sunnyvale, CA 94089\"\n",
              "      }\n",
              "    }\n",
              "    fields {\n",
              "      key: \"product\"\n",
              "      value {\n",
              "        string_value: \"Pixel 8 Pro\"\n",
              "      }\n",
              "    }\n",
              "  }\n",
              "}"
            ]
          },
          "execution_count": 22,
          "metadata": {},
          "output_type": "execute_result"
        }
      ],
      "source": [
        "prompt = \"\"\"\n",
        "I'd like to order a Pixel 8 Pro and have it shipped to 1155 Borregas Ave, Sunnyvale, CA 94089.\n",
        "\"\"\"\n",
        "\n",
        "response = chat.send_message(prompt)\n",
        "response.candidates[0].content.parts[0]"
      ]
    },
    {
      "cell_type": "markdown",
      "metadata": {
        "id": "CVRU8sA-IzlK"
      },
      "source": [
        "Perfect! We extracted the user's desired product and address, and now we can call an API to place the order:"
      ]
    },
    {
      "cell_type": "code",
      "execution_count": 23,
      "metadata": {
        "id": "psAihw23IzlK",
        "tags": []
      },
      "outputs": [],
      "source": [
        "# This is where you would make an API request to return the status of their order.\n",
        "# Use synthetic data to simulate a response payload from an external API.\n",
        "\n",
        "api_response = {\n",
        "    \"payment_status\": \"paid\",\n",
        "    \"order_number\": 12345,\n",
        "    \"est_arrival\": \"2 days\",\n",
        "}"
      ]
    },
    {
      "cell_type": "markdown",
      "metadata": {
        "id": "Q0knZ2efIzlL"
      },
      "source": [
        "As before, let's include details from the external API call and generate a response to the user:"
      ]
    },
    {
      "cell_type": "code",
      "execution_count": 24,
      "metadata": {
        "colab": {
          "base_uri": "https://localhost:8080/"
        },
        "id": "rqHghg3oIzlL",
        "outputId": "22d59f5a-75f1-430b-bef1-c70e34c14df7",
        "tags": []
      },
      "outputs": [
        {
          "data": {
            "text/plain": [
              "text: \"OK. I have placed an order for a Pixel 8 Pro and it will be shipped to 1155 Borregas Ave, Sunnyvale, CA 94089. Your order number is 12345. The estimated arrival time is 2 days.\""
            ]
          },
          "execution_count": 24,
          "metadata": {},
          "output_type": "execute_result"
        }
      ],
      "source": [
        "response = chat.send_message(\n",
        "    Part.from_function_response(\n",
        "        name=\"place_order\",\n",
        "        response={\n",
        "            \"content\": api_response,\n",
        "        },\n",
        "    ),\n",
        ")\n",
        "response.candidates[0].content.parts[0]"
      ]
    },
    {
      "cell_type": "markdown",
      "metadata": {
        "id": "Y2oglYmCIzlL"
      },
      "source": [
        "And you're done! You successfully had a multi-turn conversation with Gemini, generated function calls, handled passing (mock) data back to the model, and generated messages that made use of the function responses."
      ]
    }
  ],
  "metadata": {
    "colab": {
      "provenance": []
    },
    "environment": {
      "kernel": "conda-root-py",
      "name": "workbench-notebooks.m115",
      "type": "gcloud",
      "uri": "gcr.io/deeplearning-platform-release/workbench-notebooks:m115"
    },
    "kernelspec": {
      "display_name": "Python 3 (ipykernel)",
      "language": "python",
      "name": "python3"
    },
    "language_info": {
      "codemirror_mode": {
        "name": "ipython",
        "version": 3
      },
      "file_extension": ".py",
      "mimetype": "text/x-python",
      "name": "python",
      "nbconvert_exporter": "python",
      "pygments_lexer": "ipython3",
      "version": "3.11.6"
    }
  },
  "nbformat": 4,
  "nbformat_minor": 0
}
