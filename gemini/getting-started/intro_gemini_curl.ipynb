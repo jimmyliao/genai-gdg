{
  "cells": [
    {
      "cell_type": "markdown",
      "metadata": {
        "id": "view-in-github",
        "colab_type": "text"
      },
      "source": [
        "<a href=\"https://colab.research.google.com/github/jimmyliao/genai-gdg/blob/gdg-kaohsiung/gemini/getting-started/intro_gemini_curl.ipynb\" target=\"_parent\"><img src=\"https://colab.research.google.com/assets/colab-badge.svg\" alt=\"Open In Colab\"/></a>"
      ]
    },
    {
      "cell_type": "code",
      "execution_count": null,
      "metadata": {
        "id": "ijGzTHJJUCPY",
        "tags": []
      },
      "outputs": [],
      "source": [
        "# Copyright 2024 Google LLC\n",
        "#\n",
        "# Licensed under the Apache License, Version 2.0 (the \"License\");\n",
        "# you may not use this file except in compliance with the License.\n",
        "# You may obtain a copy of the License at\n",
        "#\n",
        "#     https://www.apache.org/licenses/LICENSE-2.0\n",
        "#\n",
        "# Unless required by applicable law or agreed to in writing, software\n",
        "# distributed under the License is distributed on an \"AS IS\" BASIS,\n",
        "# WITHOUT WARRANTIES OR CONDITIONS OF ANY KIND, either express or implied.\n",
        "# See the License for the specific language governing permissions and\n",
        "# limitations under the License."
      ]
    },
    {
      "cell_type": "markdown",
      "metadata": {
        "id": "ZPC2X_a9ErW7"
      },
      "source": [
        "# Getting Started with the Vertex AI Gemini API with cURL\n",
        "\n",
        "<table align=\"left\">\n",
        "  <td style=\"text-align: center\">\n",
        "    <a href=\"https://colab.research.google.com/github/GoogleCloudPlatform/generative-ai/blob/main/gemini/getting-started/intro_gemini_curl.ipynb\">\n",
        "      <img src=\"https://cloud.google.com/ml-engine/images/colab-logo-32px.png\" alt=\"Google Colaboratory logo\"><br> Run in Colab\n",
        "    </a>\n",
        "  </td>\n",
        "  <td style=\"text-align: center\">\n",
        "    <a href=\"https://console.cloud.google.com/vertex-ai/colab/import/https:%2F%2Fraw.githubusercontent.com%2FGoogleCloudPlatform%2Fgenerative-ai%2Fmain%2Fgemini%2Fgetting-started%2Fintro_gemini_curl.ipynb\">\n",
        "      <img width=\"32px\" src=\"https://lh3.googleusercontent.com/JmcxdQi-qOpctIvWKgPtrzZdJJK-J3sWE1RsfjZNwshCFgE_9fULcNpuXYTilIR2hjwN\" alt=\"Google Cloud Colab Enterprise logo\"><br> Run in Colab Enterprise\n",
        "    </a>\n",
        "  </td>       \n",
        "  <td style=\"text-align: center\">\n",
        "    <a href=\"https://github.com/GoogleCloudPlatform/generative-ai/blob/main/gemini/getting-started/intro_gemini_curl.ipynb\">\n",
        "      <img src=\"https://cloud.google.com/ml-engine/images/github-logo-32px.png\" alt=\"GitHub logo\"><br> View on GitHub\n",
        "    </a>\n",
        "  </td>\n",
        "  <td style=\"text-align: center\">\n",
        "    <a href=\"https://console.cloud.google.com/vertex-ai/workbench/deploy-notebook?download_url=https://raw.githubusercontent.com/GoogleCloudPlatform/generative-ai/main/gemini/getting-started/intro_gemini_curl.ipynb\">\n",
        "      <img src=\"https://lh3.googleusercontent.com/UiNooY4LUgW_oTvpsNhPpQzsstV5W8F7rYgxgGBD85cWJoLmrOzhVs_ksK_vgx40SHs7jCqkTkCk=e14-rj-sc0xffffff-h130-w32\" alt=\"Vertex AI logo\"><br> Open in Vertex AI Workbench\n",
        "    </a>\n",
        "  </td>\n",
        "</table>\n"
      ]
    },
    {
      "cell_type": "markdown",
      "metadata": {
        "id": "iiOyr1B58dYZ"
      },
      "source": [
        "| | |\n",
        "|-|-|\n",
        "|Author(s) | [Eric Dong](https://github.com/gericdong), [Polong Lin](https://github.com/polong-lin) |"
      ]
    },
    {
      "cell_type": "markdown",
      "metadata": {
        "id": "axauUzNXEl_R"
      },
      "source": [
        "## Overview\n",
        "\n",
        "### Gemini\n",
        "Gemini is a family of generative AI models developed by Google DeepMind. Gemini models support prompts that include text, image, and video as input and support text responses as output.\n",
        "\n",
        "### Vertex AI Gemini API\n",
        "\n",
        "The Vertex AI Gemini API provides a unified interface for interacting with Gemini models. There are two Gemini 1.0 Pro models available in the Gemini API:\n",
        "* **Gemini 1.0 Pro model** (`gemini-1.0-pro`): Fine-tuned model to handle natural language tasks such as classification, summarization, extraction, and writing.\n",
        "* **Gemini 1.0 Pro Vision model** (`gemini-1.0-pro-vision`): Multimodal model that supports adding image and video in text or chat prompts for a text response.\n",
        "\n",
        "You can interact with the Gemini API by using the following methods:\n",
        "\n",
        "* Use [Vertex AI Studio](https://cloud.google.com/generative-ai-studio) for quick testing and command generation.\n",
        "* Use cURL commands in Cloud Shell.\n",
        "* Use the Vertex AI SDK for Python in a Jupyter notebook\n",
        "\n",
        "This notebook focuses on using the **cURL commands** to call the Vertex AI Gemini API.\n",
        "\n",
        "For more information, see the [Generative AI on Vertex AI](https://cloud.google.com/vertex-ai/docs/generative-ai/learn/overview) documentation."
      ]
    },
    {
      "cell_type": "markdown",
      "metadata": {
        "id": "yyaOZAg_El_R"
      },
      "source": [
        "### Objectives\n",
        "\n",
        "In this tutorial, you learn how to use the Vertex AI Gemini API with cURL commands to interact with the Gemini 1.0 Pro (`gemini-1.0-pro`) model and the Gemini 1.0 Pro Vision (`gemini-1.0-pro-vision`) model.\n",
        "\n",
        "You will complete the following tasks:\n",
        "\n",
        "- Install the Python SDK.\n",
        "- Use the Vertex AI Gemini API to interact with each model.\n",
        "  - Gemini 1.0 Pro (`gemini-1.0-pro`) model:\n",
        "    - Generate text from text prompts.\n",
        "    - Explore various features and configuration options.\n",
        "  - Gemini 1.0 Pro Vision (`gemini-1.0-pro-vision`) model:\n",
        "    - Generate text from image(s) and text prompts.\n",
        "    - Generate text from video.\n",
        "  "
      ]
    },
    {
      "cell_type": "markdown",
      "metadata": {
        "id": "wJf9sLIIEl_S"
      },
      "source": [
        "### Costs\n",
        "This tutorial uses billable components of Google Cloud:\n",
        "\n",
        "- Vertex AI\n",
        "\n",
        "Learn about [Vertex AI pricing](https://cloud.google.com/vertex-ai/pricing) and use the [Pricing Calculator](https://cloud.google.com/products/calculator/) to generate a cost estimate based on your projected usage."
      ]
    },
    {
      "cell_type": "markdown",
      "metadata": {
        "id": "D50ekWXjEl_S"
      },
      "source": [
        "## Getting Started"
      ]
    },
    {
      "cell_type": "markdown",
      "metadata": {
        "id": "dmWOrTJ3gx13"
      },
      "source": [
        "### Authenticate your notebook environment (Colab only)\n",
        "\n",
        "If you are running this notebook on Google Colab, run the following cell to authenticate your environment.\n",
        "\n",
        "This step is not required if you are using [Vertex AI Workbench](https://cloud.google.com/vertex-ai-workbench)."
      ]
    },
    {
      "cell_type": "code",
      "execution_count": 1,
      "metadata": {
        "id": "NyKGtVQjgx13",
        "tags": []
      },
      "outputs": [],
      "source": [
        "import sys\n",
        "\n",
        "# Additional authentication is required for Google Colab\n",
        "if \"google.colab\" in sys.modules:\n",
        "    # Authenticate user to Google Cloud\n",
        "    from google.colab import auth\n",
        "\n",
        "    auth.authenticate_user()"
      ]
    },
    {
      "cell_type": "markdown",
      "metadata": {
        "id": "O6ZGaZlxP9L0"
      },
      "source": [
        "### Set Google Cloud project\n"
      ]
    },
    {
      "cell_type": "code",
      "execution_count": 2,
      "metadata": {
        "id": "u8IivOG5SqY6",
        "tags": []
      },
      "outputs": [],
      "source": [
        "PROJECT_ID = \"gen-lang-client-0790962798\"  # @param {type:\"string\"}\n",
        "LOCATION = \"us-central1\"  # @param {type:\"string\"}"
      ]
    },
    {
      "cell_type": "markdown",
      "metadata": {
        "id": "8s84m7h6HSTR"
      },
      "source": [
        "### Defining environment variables for cURL commands\n",
        "\n",
        "These environment variables are used to construct the cURL commands."
      ]
    },
    {
      "cell_type": "code",
      "execution_count": 4,
      "metadata": {
        "id": "krJ8UOHKoPn3",
        "tags": []
      },
      "outputs": [],
      "source": [
        "import os\n",
        "\n",
        "os.environ[\"PROJECT_ID\"] = PROJECT_ID\n",
        "os.environ[\"LOCATION\"] = LOCATION\n",
        "os.environ[\"API_ENDPOINT\"] = f\"{LOCATION}-aiplatform.googleapis.com\""
      ]
    },
    {
      "cell_type": "markdown",
      "metadata": {
        "id": "0ZZUVBSzc0cR"
      },
      "source": [
        "## Use the Gemini 1.0 Pro model\n",
        "\n",
        "The Gemini 1.0 Pro (`gemini-1.0-pro`) model is tailored for natural language tasks such as classification, summarization, extraction, and writing.\n",
        "\n",
        "### Generate text from text\n",
        "\n",
        "Send a text prompt to the model. The Gemini 1.0 Pro (`gemini-1.0-pro`) model provides a streaming response mechanism. With this approach, you don't need to wait for the complete response; you can start processing fragments as soon as they're accessible."
      ]
    },
    {
      "cell_type": "code",
      "execution_count": 5,
      "metadata": {
        "id": "rzkCij_iS0we",
        "tags": [],
        "outputId": "39395027-6872-4d4f-8b83-12df11ebfa0d",
        "colab": {
          "base_uri": "https://localhost:8080/"
        }
      },
      "outputs": [
        {
          "output_type": "stream",
          "name": "stdout",
          "text": [
            "[{\n",
            "  \"candidates\": [\n",
            "    {\n",
            "      \"content\": {\n",
            "        \"role\": \"model\",\n",
            "        \"parts\": [\n",
            "          {\n",
            "            \"text\": \"The sky appears blue because of a phenomenon called Rayleigh scattering. Sunlight is made up of all colors of the visible spectrum. When sunlight enters the Earth's atmosphere\"\n",
            "          }\n",
            "        ]\n",
            "      },\n",
            "      \"safetyRatings\": [\n",
            "        {\n",
            "          \"category\": \"HARM_CATEGORY_HATE_SPEECH\",\n",
            "          \"probability\": \"NEGLIGIBLE\",\n",
            "          \"probabilityScore\": 0.059646938,\n",
            "          \"severity\": \"HARM_SEVERITY_NEGLIGIBLE\",\n",
            "          \"severityScore\": 0.02655657\n",
            "        },\n",
            "        {\n",
            "          \"category\": \"HARM_CATEGORY_DANGEROUS_CONTENT\",\n",
            "          \"probability\": \"NEGLIGIBLE\",\n",
            "          \"probabilityScore\": 0.12808825,\n",
            "          \"severity\": \"HARM_SEVERITY_NEGLIGIBLE\",\n",
            "          \"severityScore\": 0.042962477\n",
            "        },\n",
            "        {\n",
            "          \"category\": \"HARM_CATEGORY_HARASSMENT\",\n",
            "          \"probability\": \"NEGLIGIBLE\",\n",
            "          \"probabilityScore\": 0.14499426,\n",
            "          \"severity\": \"HARM_SEVERITY_NEGLIGIBLE\",\n",
            "          \"severityScore\": 0.014172366\n",
            "        },\n",
            "        {\n",
            "          \"category\": \"HARM_CATEGORY_SEXUALLY_EXPLICIT\",\n",
            "          \"probability\": \"NEGLIGIBLE\",\n",
            "          \"probabilityScore\": 0.05888469,\n",
            "          \"severity\": \"HARM_SEVERITY_NEGLIGIBLE\",\n",
            "          \"severityScore\": 0.023241926\n",
            "        }\n",
            "      ]\n",
            "    }\n",
            "  ]\n",
            "}\n",
            ",\r\n",
            "{\n",
            "  \"candidates\": [\n",
            "    {\n",
            "      \"content\": {\n",
            "        \"role\": \"model\",\n",
            "        \"parts\": [\n",
            "          {\n",
            "            \"text\": \", it encounters molecules of nitrogen and oxygen. These molecules scatter the sunlight in all directions. However, blue light is scattered more than\"\n",
            "          }\n",
            "        ]\n",
            "      },\n",
            "      \"safetyRatings\": [\n",
            "        {\n",
            "          \"category\": \"HARM_CATEGORY_HATE_SPEECH\",\n",
            "          \"probability\": \"NEGLIGIBLE\",\n",
            "          \"probabilityScore\": 0.072374016,\n",
            "          \"severity\": \"HARM_SEVERITY_NEGLIGIBLE\",\n",
            "          \"severityScore\": 0.024191486\n",
            "        },\n",
            "        {\n",
            "          \"category\": \"HARM_CATEGORY_DANGEROUS_CONTENT\",\n",
            "          \"probability\": \"NEGLIGIBLE\",\n",
            "          \"probabilityScore\": 0.17567945,\n",
            "          \"severity\": \"HARM_SEVERITY_NEGLIGIBLE\",\n",
            "          \"severityScore\": 0.05155819\n",
            "        },\n",
            "        {\n",
            "          \"category\": \"HARM_CATEGORY_HARASSMENT\",\n",
            "          \"probability\": \"NEGLIGIBLE\",\n",
            "          \"probabilityScore\": 0.1606607,\n",
            "          \"severity\": \"HARM_SEVERITY_NEGLIGIBLE\",\n",
            "          \"severityScore\": 0.016090874\n",
            "        },\n",
            "        {\n",
            "          \"category\": \"HARM_CATEGORY_SEXUALLY_EXPLICIT\",\n",
            "          \"probability\": \"NEGLIGIBLE\",\n",
            "          \"probabilityScore\": 0.08021325,\n",
            "          \"severity\": \"HARM_SEVERITY_NEGLIGIBLE\",\n",
            "          \"severityScore\": 0.02249997\n",
            "        }\n",
            "      ]\n",
            "    }\n",
            "  ]\n",
            "}\n",
            ",\r\n",
            "{\n",
            "  \"candidates\": [\n",
            "    {\n",
            "      \"content\": {\n",
            "        \"role\": \"model\",\n",
            "        \"parts\": [\n",
            "          {\n",
            "            \"text\": \" other colors because it has a shorter wavelength. This is because blue light interacts more with the molecules in the atmosphere. As a result, we see more blue light in the sky than any other color.\"\n",
            "          }\n",
            "        ]\n",
            "      },\n",
            "      \"finishReason\": \"STOP\",\n",
            "      \"safetyRatings\": [\n",
            "        {\n",
            "          \"category\": \"HARM_CATEGORY_HATE_SPEECH\",\n",
            "          \"probability\": \"NEGLIGIBLE\",\n",
            "          \"probabilityScore\": 0.07094483,\n",
            "          \"severity\": \"HARM_SEVERITY_NEGLIGIBLE\",\n",
            "          \"severityScore\": 0.028816197\n",
            "        },\n",
            "        {\n",
            "          \"category\": \"HARM_CATEGORY_DANGEROUS_CONTENT\",\n",
            "          \"probability\": \"NEGLIGIBLE\",\n",
            "          \"probabilityScore\": 0.09170696,\n",
            "          \"severity\": \"HARM_SEVERITY_NEGLIGIBLE\",\n",
            "          \"severityScore\": 0.044183318\n",
            "        },\n",
            "        {\n",
            "          \"category\": \"HARM_CATEGORY_HARASSMENT\",\n",
            "          \"probability\": \"NEGLIGIBLE\",\n",
            "          \"probabilityScore\": 0.18609506,\n",
            "          \"severity\": \"HARM_SEVERITY_NEGLIGIBLE\",\n",
            "          \"severityScore\": 0.021574067\n",
            "        },\n",
            "        {\n",
            "          \"category\": \"HARM_CATEGORY_SEXUALLY_EXPLICIT\",\n",
            "          \"probability\": \"NEGLIGIBLE\",\n",
            "          \"probabilityScore\": 0.100878626,\n",
            "          \"severity\": \"HARM_SEVERITY_NEGLIGIBLE\",\n",
            "          \"severityScore\": 0.02479816\n",
            "        }\n",
            "      ],\n",
            "      \"citationMetadata\": {\n",
            "        \"citations\": [\n",
            "          {\n",
            "            \"startIndex\": 253,\n",
            "            \"endIndex\": 376,\n",
            "            \"uri\": \"https://www.numerade.com/ask/question/when-particles-scattering-light-are-much-smaller-than-its-wavelength-the-amount-of-scattering-is-pro-73436/\"\n",
            "          }\n",
            "        ]\n",
            "      }\n",
            "    }\n",
            "  ],\n",
            "  \"usageMetadata\": {\n",
            "    \"promptTokenCount\": 6,\n",
            "    \"candidatesTokenCount\": 98,\n",
            "    \"totalTokenCount\": 104\n",
            "  }\n",
            "}\n",
            "]"
          ]
        },
        {
          "output_type": "stream",
          "name": "stderr",
          "text": [
            "  % Total    % Received % Xferd  Average Speed   Time    Time     Time  Current\n",
            "                                 Dload  Upload   Total   Spent    Left  Speed\n",
            "\r  0     0    0     0    0     0      0      0 --:--:-- --:--:-- --:--:--     0\r100   101    0     0  100   101      0     83  0:00:01  0:00:01 --:--:--    83\r100  1455    0  1354  100   101    860     64  0:00:01  0:00:01 --:--:--   923\r100  1455    0  1354  100   101    525     39  0:00:02  0:00:02 --:--:--   564\r100  4626    0  4525  100   101   1397     31  0:00:03  0:00:03 --:--:--  1429\n"
          ]
        }
      ],
      "source": [
        "%%bash\n",
        "\n",
        "MODEL_ID=\"gemini-1.0-pro\"\n",
        "\n",
        "curl -X POST \\\n",
        "  -H \"Authorization: Bearer $(gcloud auth print-access-token)\" \\\n",
        "  -H \"Content-Type: application/json\" \\\n",
        "  https://${API_ENDPOINT}/v1/projects/${PROJECT_ID}/locations/${LOCATION}/publishers/google/models/${MODEL_ID}:streamGenerateContent \\\n",
        "  -d '{\n",
        "    \"contents\": {\n",
        "      \"role\": \"USER\",\n",
        "      \"parts\": { \"text\": \"Why is the sky blue?\" }\n",
        "    }\n",
        "    }'\n"
      ]
    },
    {
      "cell_type": "markdown",
      "metadata": {
        "id": "3e56BV7PH9t8"
      },
      "source": [
        "### Model parameters\n",
        "\n",
        "Every prompt you send to the model includes parameter values that control how the model generates a response. The model can generate different results for different parameter values. You can experiment with different model parameters to see how the results change."
      ]
    },
    {
      "cell_type": "code",
      "source": [
        "!gcloud auth print-access-token"
      ],
      "metadata": {
        "id": "pojAKyfo9VrA",
        "outputId": "cf10f510-d0a7-4458-da74-036d9ab85e53",
        "colab": {
          "base_uri": "https://localhost:8080/"
        }
      },
      "execution_count": 9,
      "outputs": [
        {
          "output_type": "stream",
          "name": "stdout",
          "text": [
            "ya29.a0Ad52N38RaY2_2H-tatBYO-wv03UDaQn3qcRR8QhA8eVkEfsFM8DCAD8lZ6Qqj5bLhGp2BFE_WTW03Xp5KG4s4KD0o6ZlK05QTXZRgi6qFMnlMLOcW02VOGZlnuBIdWEb6mO0dtjfKH9onm5amHm0V2naTg5WWPbEuQaCgYKAcwSARESFQHGX2MiVDCPOtJP4C8k0_qq_Gid5Q0169\n"
          ]
        }
      ]
    },
    {
      "cell_type": "code",
      "execution_count": 11,
      "metadata": {
        "id": "Px8hSHhiH9t8",
        "tags": [],
        "outputId": "c4d898fd-cac2-42d8-dc69-67655165020e",
        "colab": {
          "base_uri": "https://localhost:8080/"
        }
      },
      "outputs": [
        {
          "output_type": "stream",
          "name": "stdout",
          "text": [
            "[{\n",
            "  \"candidates\": [\n",
            "    {\n",
            "      \"content\": {\n",
            "        \"role\": \"model\",\n",
            "        \"parts\": [\n",
            "          {\n",
            "            \"text\": \" This is a photo of a cat walking in the snow. The cat is brown and white, and it has a long tail. The cat is walking towards\"\n",
            "          }\n",
            "        ]\n",
            "      },\n",
            "      \"safetyRatings\": [\n",
            "        {\n",
            "          \"category\": \"HARM_CATEGORY_HATE_SPEECH\",\n",
            "          \"probability\": \"NEGLIGIBLE\",\n",
            "          \"probabilityScore\": 0.031618766,\n",
            "          \"severity\": \"HARM_SEVERITY_NEGLIGIBLE\",\n",
            "          \"severityScore\": 0.06669065\n",
            "        },\n",
            "        {\n",
            "          \"category\": \"HARM_CATEGORY_DANGEROUS_CONTENT\",\n",
            "          \"probability\": \"NEGLIGIBLE\",\n",
            "          \"probabilityScore\": 0.061424047,\n",
            "          \"severity\": \"HARM_SEVERITY_NEGLIGIBLE\",\n",
            "          \"severityScore\": 0.0575992\n",
            "        },\n",
            "        {\n",
            "          \"category\": \"HARM_CATEGORY_HARASSMENT\",\n",
            "          \"probability\": \"NEGLIGIBLE\",\n",
            "          \"probabilityScore\": 0.066085376,\n",
            "          \"severity\": \"HARM_SEVERITY_NEGLIGIBLE\",\n",
            "          \"severityScore\": 0.049589027\n",
            "        },\n",
            "        {\n",
            "          \"category\": \"HARM_CATEGORY_SEXUALLY_EXPLICIT\",\n",
            "          \"probability\": \"NEGLIGIBLE\",\n",
            "          \"probabilityScore\": 0.07793769,\n",
            "          \"severity\": \"HARM_SEVERITY_NEGLIGIBLE\",\n",
            "          \"severityScore\": 0.09301681\n",
            "        }\n",
            "      ]\n",
            "    }\n",
            "  ]\n",
            "}\n",
            ",\r\n",
            "{\n",
            "  \"candidates\": [\n",
            "    {\n",
            "      \"content\": {\n",
            "        \"role\": \"model\",\n",
            "        \"parts\": [\n",
            "          {\n",
            "            \"text\": \" the camera, and it looks like it is about to jump. The background is a blur of snow.\"\n",
            "          }\n",
            "        ]\n",
            "      },\n",
            "      \"finishReason\": \"STOP\",\n",
            "      \"safetyRatings\": [\n",
            "        {\n",
            "          \"category\": \"HARM_CATEGORY_HATE_SPEECH\",\n",
            "          \"probability\": \"NEGLIGIBLE\",\n",
            "          \"probabilityScore\": 0.03461884,\n",
            "          \"severity\": \"HARM_SEVERITY_NEGLIGIBLE\",\n",
            "          \"severityScore\": 0.047602657\n",
            "        },\n",
            "        {\n",
            "          \"category\": \"HARM_CATEGORY_DANGEROUS_CONTENT\",\n",
            "          \"probability\": \"NEGLIGIBLE\",\n",
            "          \"probabilityScore\": 0.14523655,\n",
            "          \"severity\": \"HARM_SEVERITY_NEGLIGIBLE\",\n",
            "          \"severityScore\": 0.10484337\n",
            "        },\n",
            "        {\n",
            "          \"category\": \"HARM_CATEGORY_HARASSMENT\",\n",
            "          \"probability\": \"NEGLIGIBLE\",\n",
            "          \"probabilityScore\": 0.07544843,\n",
            "          \"severity\": \"HARM_SEVERITY_NEGLIGIBLE\",\n",
            "          \"severityScore\": 0.06108711\n",
            "        },\n",
            "        {\n",
            "          \"category\": \"HARM_CATEGORY_SEXUALLY_EXPLICIT\",\n",
            "          \"probability\": \"NEGLIGIBLE\",\n",
            "          \"probabilityScore\": 0.07303239,\n",
            "          \"severity\": \"HARM_SEVERITY_NEGLIGIBLE\",\n",
            "          \"severityScore\": 0.093181714\n",
            "        }\n",
            "      ]\n",
            "    }\n",
            "  ],\n",
            "  \"usageMetadata\": {\n",
            "    \"promptTokenCount\": 261,\n",
            "    \"candidatesTokenCount\": 52,\n",
            "    \"totalTokenCount\": 313\n",
            "  }\n",
            "}\n",
            "]"
          ]
        },
        {
          "output_type": "stream",
          "name": "stderr",
          "text": [
            "  % Total    % Received % Xferd  Average Speed   Time    Time     Time  Current\n",
            "                                 Dload  Upload   Total   Spent    Left  Speed\n",
            "\r  0     0    0     0    0     0      0      0 --:--:-- --:--:-- --:--:--     0\r100   603    0     0  100   603      0   2966 --:--:-- --:--:-- --:--:--  2955\r100   603    0     0  100   603      0    500  0:00:01  0:00:01 --:--:--   500\r100   603    0     0  100   603      0    273  0:00:02  0:00:02 --:--:--   273\r100  3315    0  2712  100   603    856    190  0:00:03  0:00:03 --:--:--  1047\n"
          ]
        }
      ],
      "source": [
        "%%bash\n",
        "\n",
        "MODEL_ID=\"gemini-1.0-pro-vision\"\n",
        "\n",
        "curl -X POST \\\n",
        "  -H \"Authorization: Bearer $(gcloud auth print-access-token)\" \\\n",
        "  -H \"Content-Type: application/json\" \\\n",
        "  https://${API_ENDPOINT}/v1/projects/${PROJECT_ID}/locations/${LOCATION}/publishers/google/models/${MODEL_ID}:streamGenerateContent \\\n",
        "  -d '{\n",
        "    \"contents\": {\n",
        "      \"role\": \"USER\",\n",
        "      \"parts\": [\n",
        "        {\"text\": \"Describe this image\"},\n",
        "        {\"file_data\": {\n",
        "          \"mime_type\": \"image/png\",\n",
        "          \"file_uri\": \"gs://cloud-samples-data/generative-ai/image/320px-Felis_catus-cat_on_snow.jpg\"\n",
        "        }}\n",
        "      ]\n",
        "    },\n",
        "    \"generation_config\": {\n",
        "      \"temperature\": 0.2,\n",
        "      \"top_p\": 0.1,\n",
        "      \"top_k\": 16,\n",
        "      \"max_output_tokens\": 2048,\n",
        "      \"candidate_count\": 1,\n",
        "      \"stop_sequences\": []\n",
        "    },\n",
        "    \"safety_settings\": {\n",
        "      \"category\": \"HARM_CATEGORY_SEXUALLY_EXPLICIT\",\n",
        "      \"threshold\": \"BLOCK_LOW_AND_ABOVE\"\n",
        "    }\n",
        "  }'\n"
      ]
    },
    {
      "cell_type": "markdown",
      "metadata": {
        "id": "I4-XhmPn_Pb-"
      },
      "source": [
        "### Chat\n",
        "\n",
        "The Gemini 1.0 Pro model supports natural multi-turn conversations and is ideal for text tasks that require back-and-forth interactions.\n",
        "\n",
        "Specify the `role` field only if the content represents a turn in a conversation. You can set `role` to one of the following values: `user`, `model`."
      ]
    },
    {
      "cell_type": "code",
      "execution_count": 12,
      "metadata": {
        "id": "YqSQSK-K-KVU",
        "tags": [],
        "outputId": "f8f8515b-1cfd-4e0b-a074-78ba7c9e3db1",
        "colab": {
          "base_uri": "https://localhost:8080/"
        }
      },
      "outputs": [
        {
          "output_type": "stream",
          "name": "stdout",
          "text": [
            "[{\n",
            "  \"candidates\": [\n",
            "    {\n",
            "      \"content\": {\n",
            "        \"role\": \"model\",\n",
            "        \"parts\": [\n",
            "          {\n",
            "            \"text\": \"I suggest we begin by discussing the schedule for the project. Once we have a solid understanding of the timeline, we can dive into the details of the\"\n",
            "          }\n",
            "        ]\n",
            "      },\n",
            "      \"safetyRatings\": [\n",
            "        {\n",
            "          \"category\": \"HARM_CATEGORY_HATE_SPEECH\",\n",
            "          \"probability\": \"NEGLIGIBLE\",\n",
            "          \"probabilityScore\": 0.025516605,\n",
            "          \"severity\": \"HARM_SEVERITY_NEGLIGIBLE\",\n",
            "          \"severityScore\": 0.022158869\n",
            "        },\n",
            "        {\n",
            "          \"category\": \"HARM_CATEGORY_DANGEROUS_CONTENT\",\n",
            "          \"probability\": \"NEGLIGIBLE\",\n",
            "          \"probabilityScore\": 0.13892843,\n",
            "          \"severity\": \"HARM_SEVERITY_NEGLIGIBLE\",\n",
            "          \"severityScore\": 0.08555634\n",
            "        },\n",
            "        {\n",
            "          \"category\": \"HARM_CATEGORY_HARASSMENT\",\n",
            "          \"probability\": \"NEGLIGIBLE\",\n",
            "          \"probabilityScore\": 0.06916356,\n",
            "          \"severity\": \"HARM_SEVERITY_NEGLIGIBLE\",\n",
            "          \"severityScore\": 0.011823395\n",
            "        },\n",
            "        {\n",
            "          \"category\": \"HARM_CATEGORY_SEXUALLY_EXPLICIT\",\n",
            "          \"probability\": \"NEGLIGIBLE\",\n",
            "          \"probabilityScore\": 0.14891148,\n",
            "          \"severity\": \"HARM_SEVERITY_NEGLIGIBLE\",\n",
            "          \"severityScore\": 0.06108711\n",
            "        }\n",
            "      ]\n",
            "    }\n",
            "  ]\n",
            "}\n",
            ",\r\n",
            "{\n",
            "  \"candidates\": [\n",
            "    {\n",
            "      \"content\": {\n",
            "        \"role\": \"model\",\n",
            "        \"parts\": [\n",
            "          {\n",
            "            \"text\": \" work itself.\"\n",
            "          }\n",
            "        ]\n",
            "      },\n",
            "      \"finishReason\": \"STOP\",\n",
            "      \"safetyRatings\": [\n",
            "        {\n",
            "          \"category\": \"HARM_CATEGORY_HATE_SPEECH\",\n",
            "          \"probability\": \"NEGLIGIBLE\",\n",
            "          \"probabilityScore\": 0.020567095,\n",
            "          \"severity\": \"HARM_SEVERITY_NEGLIGIBLE\",\n",
            "          \"severityScore\": 0.021656677\n",
            "        },\n",
            "        {\n",
            "          \"category\": \"HARM_CATEGORY_DANGEROUS_CONTENT\",\n",
            "          \"probability\": \"NEGLIGIBLE\",\n",
            "          \"probabilityScore\": 0.116764,\n",
            "          \"severity\": \"HARM_SEVERITY_NEGLIGIBLE\",\n",
            "          \"severityScore\": 0.06596494\n",
            "        },\n",
            "        {\n",
            "          \"category\": \"HARM_CATEGORY_HARASSMENT\",\n",
            "          \"probability\": \"NEGLIGIBLE\",\n",
            "          \"probabilityScore\": 0.06681233,\n",
            "          \"severity\": \"HARM_SEVERITY_NEGLIGIBLE\",\n",
            "          \"severityScore\": 0.010529712\n",
            "        },\n",
            "        {\n",
            "          \"category\": \"HARM_CATEGORY_SEXUALLY_EXPLICIT\",\n",
            "          \"probability\": \"NEGLIGIBLE\",\n",
            "          \"probabilityScore\": 0.13799648,\n",
            "          \"severity\": \"HARM_SEVERITY_NEGLIGIBLE\",\n",
            "          \"severityScore\": 0.060418423\n",
            "        }\n",
            "      ]\n",
            "    }\n",
            "  ],\n",
            "  \"usageMetadata\": {\n",
            "    \"promptTokenCount\": 21,\n",
            "    \"candidatesTokenCount\": 33,\n",
            "    \"totalTokenCount\": 54\n",
            "  }\n",
            "}\n",
            "]"
          ]
        },
        {
          "output_type": "stream",
          "name": "stderr",
          "text": [
            "  % Total    % Received % Xferd  Average Speed   Time    Time     Time  Current\n",
            "                                 Dload  Upload   Total   Spent    Left  Speed\n",
            "\r  0     0    0     0    0     0      0      0 --:--:-- --:--:-- --:--:--     0\r100  3060    0  2662  100   398   2547    380  0:00:01  0:00:01 --:--:--  2931\r100  3061    0  2663  100   398   2544    380  0:00:01  0:00:01 --:--:--  2926\n"
          ]
        }
      ],
      "source": [
        "%%bash\n",
        "\n",
        "MODEL_ID=\"gemini-1.0-pro\"\n",
        "\n",
        "curl -X POST \\\n",
        "  -H \"Authorization: Bearer $(gcloud auth print-access-token)\" \\\n",
        "  -H \"Content-Type: application/json\" \\\n",
        "  https://${API_ENDPOINT}/v1/projects/${PROJECT_ID}/locations/${LOCATION}/publishers/google/models/${MODEL_ID}:streamGenerateContent \\\n",
        "  -d '{\n",
        "    \"contents\": [\n",
        "      {\n",
        "        \"role\": \"user\",\n",
        "        \"parts\": [\n",
        "          { \"text\": \"Hello\" }\n",
        "        ]\n",
        "      },\n",
        "      {\n",
        "        \"role\": \"model\",\n",
        "        \"parts\": [\n",
        "          { \"text\": \"Hello! I am glad you could both make it.\" }\n",
        "        ]\n",
        "      },\n",
        "      {\n",
        "        \"role\": \"user\",\n",
        "        \"parts\": [\n",
        "          { \"text\": \"So what is the first order of business?\" }\n",
        "        ]\n",
        "      }\n",
        "    ]\n",
        "  }'"
      ]
    },
    {
      "cell_type": "markdown",
      "metadata": {
        "id": "5f0f5fe3b331"
      },
      "source": [
        "### Function calling\n",
        "\n",
        "Function calling lets you create a description of a function in their code, then pass that description to a language model in a request. This sample is an example of passing in a description of a function that returns information about where a movie is playing. Several function declarations are included in the request, such as `find_movies` and `find_theaters`.\n",
        "\n",
        "Learn more about [function calling](https://cloud.google.com/vertex-ai/docs/generative-ai/multimodal/function-calling)."
      ]
    },
    {
      "cell_type": "code",
      "execution_count": 13,
      "metadata": {
        "id": "680b11b0ba4c",
        "tags": [],
        "outputId": "e6fe90f2-a70d-41d3-c81e-7655ee5efda7",
        "colab": {
          "base_uri": "https://localhost:8080/"
        }
      },
      "outputs": [
        {
          "output_type": "stream",
          "name": "stdout",
          "text": [
            "[{\n",
            "  \"candidates\": [\n",
            "    {\n",
            "      \"content\": {\n",
            "        \"role\": \"model\",\n",
            "        \"parts\": [\n",
            "          {\n",
            "            \"functionCall\": {\n",
            "              \"name\": \"find_theaters\",\n",
            "              \"args\": {\n",
            "                \"location\": \"Mountain View, CA\",\n",
            "                \"movie\": \"Barbie\"\n",
            "              }\n",
            "            }\n",
            "          }\n",
            "        ]\n",
            "      },\n",
            "      \"finishReason\": \"STOP\",\n",
            "      \"safetyRatings\": [\n",
            "        {\n",
            "          \"category\": \"HARM_CATEGORY_HATE_SPEECH\",\n",
            "          \"probability\": \"NEGLIGIBLE\",\n",
            "          \"probabilityScore\": 0.08555634,\n",
            "          \"severity\": \"HARM_SEVERITY_NEGLIGIBLE\",\n",
            "          \"severityScore\": 0.116965584\n",
            "        },\n",
            "        {\n",
            "          \"category\": \"HARM_CATEGORY_DANGEROUS_CONTENT\",\n",
            "          \"probability\": \"NEGLIGIBLE\",\n",
            "          \"probabilityScore\": 0.086169556,\n",
            "          \"severity\": \"HARM_SEVERITY_NEGLIGIBLE\",\n",
            "          \"severityScore\": 0.14390807\n",
            "        },\n",
            "        {\n",
            "          \"category\": \"HARM_CATEGORY_HARASSMENT\",\n",
            "          \"probability\": \"NEGLIGIBLE\",\n",
            "          \"probabilityScore\": 0.09619517,\n",
            "          \"severity\": \"HARM_SEVERITY_NEGLIGIBLE\",\n",
            "          \"severityScore\": 0.054399315\n",
            "        },\n",
            "        {\n",
            "          \"category\": \"HARM_CATEGORY_SEXUALLY_EXPLICIT\",\n",
            "          \"probability\": \"NEGLIGIBLE\",\n",
            "          \"probabilityScore\": 0.15960999,\n",
            "          \"severity\": \"HARM_SEVERITY_NEGLIGIBLE\",\n",
            "          \"severityScore\": 0.08882029\n",
            "        }\n",
            "      ]\n",
            "    }\n",
            "  ],\n",
            "  \"usageMetadata\": {\n",
            "    \"promptTokenCount\": 192,\n",
            "    \"candidatesTokenCount\": 11,\n",
            "    \"totalTokenCount\": 203\n",
            "  }\n",
            "}\n",
            "]"
          ]
        },
        {
          "output_type": "stream",
          "name": "stderr",
          "text": [
            "  % Total    % Received % Xferd  Average Speed   Time    Time     Time  Current\n",
            "                                 Dload  Upload   Total   Spent    Left  Speed\n",
            "\r  0     0    0     0    0     0      0      0 --:--:-- --:--:-- --:--:--     0\r100  2567    0     0  100  2567      0   2125  0:00:01  0:00:01 --:--:--  2126\r100  4072    0  1505  100  2567    720   1229  0:00:02  0:00:02 --:--:--  1950\r100  4073    0  1506  100  2567    720   1228  0:00:02  0:00:02 --:--:--  1949\n"
          ]
        }
      ],
      "source": [
        "%%bash\n",
        "\n",
        "MODEL_ID=\"gemini-1.0-pro\"\n",
        "\n",
        "curl -X POST \\\n",
        "  -H \"Authorization: Bearer $(gcloud auth print-access-token)\" \\\n",
        "  -H \"Content-Type: application/json\" \\\n",
        "  https://${API_ENDPOINT}/v1beta1/projects/${PROJECT_ID}/locations/${LOCATION}/publishers/google/models/${MODEL_ID}:streamGenerateContent \\\n",
        "  -d '{\n",
        "  \"contents\": {\n",
        "    \"role\": \"user\",\n",
        "    \"parts\": {\n",
        "      \"text\": \"Which theaters in Mountain View show Barbie movie?\"\n",
        "    }\n",
        "  },\n",
        "  \"tools\": [\n",
        "    {\n",
        "      \"function_declarations\": [\n",
        "        {\n",
        "          \"name\": \"find_movies\",\n",
        "          \"description\": \"find movie titles currently playing in theaters based on any description, genre, title words, etc.\",\n",
        "          \"parameters\": {\n",
        "            \"type\": \"object\",\n",
        "            \"properties\": {\n",
        "              \"location\": {\n",
        "                \"type\": \"string\",\n",
        "                \"description\": \"The city and state, e.g. San Francisco, CA or a zip code e.g. 95616\"\n",
        "              },\n",
        "              \"description\": {\n",
        "                \"type\": \"string\",\n",
        "                \"description\": \"Any kind of description including category or genre, title words, attributes, etc.\"\n",
        "              }\n",
        "            },\n",
        "            \"required\": [\n",
        "              \"description\"\n",
        "            ]\n",
        "          }\n",
        "        },\n",
        "        {\n",
        "          \"name\": \"find_theaters\",\n",
        "          \"description\": \"find theaters based on location and optionally movie title which are is currently playing in theaters\",\n",
        "          \"parameters\": {\n",
        "            \"type\": \"object\",\n",
        "            \"properties\": {\n",
        "              \"location\": {\n",
        "                \"type\": \"string\",\n",
        "                \"description\": \"The city and state, e.g. San Francisco, CA or a zip code e.g. 95616\"\n",
        "              },\n",
        "              \"movie\": {\n",
        "                \"type\": \"string\",\n",
        "                \"description\": \"Any movie title\"\n",
        "              }\n",
        "            },\n",
        "            \"required\": [\n",
        "              \"location\"\n",
        "            ]\n",
        "          }\n",
        "        },\n",
        "        {\n",
        "          \"name\": \"get_showtimes\",\n",
        "          \"description\": \"Find the start times for movies playing in a specific theater\",\n",
        "          \"parameters\": {\n",
        "            \"type\": \"object\",\n",
        "            \"properties\": {\n",
        "              \"location\": {\n",
        "                \"type\": \"string\",\n",
        "                \"description\": \"The city and state, e.g. San Francisco, CA or a zip code e.g. 95616\"\n",
        "              },\n",
        "              \"movie\": {\n",
        "                \"type\": \"string\",\n",
        "                \"description\": \"Any movie title\"\n",
        "              },\n",
        "              \"theater\": {\n",
        "                \"type\": \"string\",\n",
        "                \"description\": \"Name of the theater\"\n",
        "              },\n",
        "              \"date\": {\n",
        "                \"type\": \"string\",\n",
        "                \"description\": \"Date for requested showtime\"\n",
        "              }\n",
        "            },\n",
        "            \"required\": [\n",
        "              \"location\",\n",
        "              \"movie\",\n",
        "              \"theater\",\n",
        "              \"date\"\n",
        "            ]\n",
        "          }\n",
        "        }\n",
        "      ]\n",
        "    }\n",
        "  ]\n",
        "}'"
      ]
    },
    {
      "cell_type": "markdown",
      "metadata": {
        "id": "R3g5n23lDtsN"
      },
      "source": [
        "## Use the Gemini 1.0 Pro Vision model\n",
        "\n",
        "The Gemini 1.0 Pro Vision (`gemini-1.0-pro-vision`) is a multimodal model that supports adding image and video in text or chat prompts for a text response.\n",
        "\n",
        "**Note**: Text-only prompts are not supported by the Gemini 1.0 Pro Vision model. Instead, use the Gemini 1.0 Pro model for text-only prompts."
      ]
    },
    {
      "cell_type": "markdown",
      "metadata": {
        "id": "uTfL2DDch4Lp"
      },
      "source": [
        "### Download an image from Google Cloud Storage"
      ]
    },
    {
      "cell_type": "code",
      "execution_count": 14,
      "metadata": {
        "id": "KmtWSNLtJ7oD",
        "tags": [],
        "outputId": "ddb13575-3b4e-4150-8904-ee70284825bc",
        "colab": {
          "base_uri": "https://localhost:8080/"
        }
      },
      "outputs": [
        {
          "output_type": "stream",
          "name": "stdout",
          "text": [
            "Copying gs://cloud-samples-data/generative-ai/image/320px-Felis_catus-cat_on_snow.jpg...\n",
            "/ [0 files][    0.0 B/ 17.4 KiB]                                                \r/ [1 files][ 17.4 KiB/ 17.4 KiB]                                                \r\n",
            "Operation completed over 1 objects/17.4 KiB.                                     \n"
          ]
        }
      ],
      "source": [
        "! gsutil cp \"gs://cloud-samples-data/generative-ai/image/320px-Felis_catus-cat_on_snow.jpg\" ./image.jpg"
      ]
    },
    {
      "cell_type": "markdown",
      "metadata": {
        "id": "BlyyaPgmhpyv"
      },
      "source": [
        "### Generate text from a local image\n",
        "\n",
        "Specify the [base64](https://en.wikipedia.org/wiki/Base64) encoding of the image or video to include inline in the prompt and the `mime_type` field. The supported [MIME types](https://en.wikipedia.org/wiki/Media_type) for images include `image/png` and `image/jpeg`."
      ]
    },
    {
      "cell_type": "code",
      "execution_count": 15,
      "metadata": {
        "id": "-uqZ-RWdtdit",
        "tags": [],
        "outputId": "f3913ae4-1c52-444f-f9f9-4df578ac1d03",
        "colab": {
          "base_uri": "https://localhost:8080/"
        }
      },
      "outputs": [
        {
          "output_type": "stream",
          "name": "stdout",
          "text": [
            "[{\n",
            "  \"candidates\": [\n",
            "    {\n",
            "      \"content\": {\n",
            "        \"role\": \"model\",\n",
            "        \"parts\": [\n",
            "          {\n",
            "            \"text\": \" Yes.\"\n",
            "          }\n",
            "        ]\n",
            "      },\n",
            "      \"finishReason\": \"STOP\",\n",
            "      \"safetyRatings\": [\n",
            "        {\n",
            "          \"category\": \"HARM_CATEGORY_HATE_SPEECH\",\n",
            "          \"probability\": \"NEGLIGIBLE\",\n",
            "          \"probabilityScore\": 0.06644793,\n",
            "          \"severity\": \"HARM_SEVERITY_NEGLIGIBLE\",\n",
            "          \"severityScore\": 0.10970578\n",
            "        },\n",
            "        {\n",
            "          \"category\": \"HARM_CATEGORY_DANGEROUS_CONTENT\",\n",
            "          \"probability\": \"NEGLIGIBLE\",\n",
            "          \"probabilityScore\": 0.14116299,\n",
            "          \"severity\": \"HARM_SEVERITY_NEGLIGIBLE\",\n",
            "          \"severityScore\": 0.15027806\n",
            "        },\n",
            "        {\n",
            "          \"category\": \"HARM_CATEGORY_HARASSMENT\",\n",
            "          \"probability\": \"NEGLIGIBLE\",\n",
            "          \"probabilityScore\": 0.13580412,\n",
            "          \"severity\": \"HARM_SEVERITY_NEGLIGIBLE\",\n",
            "          \"severityScore\": 0.13788036\n",
            "        },\n",
            "        {\n",
            "          \"category\": \"HARM_CATEGORY_SEXUALLY_EXPLICIT\",\n",
            "          \"probability\": \"NEGLIGIBLE\",\n",
            "          \"probabilityScore\": 0.14657521,\n",
            "          \"severity\": \"HARM_SEVERITY_NEGLIGIBLE\",\n",
            "          \"severityScore\": 0.09687653\n",
            "        }\n",
            "      ]\n",
            "    }\n",
            "  ],\n",
            "  \"usageMetadata\": {\n",
            "    \"promptTokenCount\": 263,\n",
            "    \"candidatesTokenCount\": 2,\n",
            "    \"totalTokenCount\": 265\n",
            "  }\n",
            "}\n",
            "]"
          ]
        },
        {
          "output_type": "stream",
          "name": "stderr",
          "text": [
            "  % Total    % Received % Xferd  Average Speed   Time    Time     Time  Current\n",
            "                                 Dload  Upload   Total   Spent    Left  Speed\n",
            "\r  0     0    0     0    0     0      0      0 --:--:-- --:--:-- --:--:--     0\r100 24094    0     0  100 24094      0  19904  0:00:01  0:00:01 --:--:-- 19912\r100 24094    0     0  100 24094      0  10890  0:00:02  0:00:02 --:--:-- 10892\r100 25417    0  1323  100 24094    417   7599  0:00:03  0:00:03 --:--:--  8017\r100 25418    0  1324  100 24094    417   7596  0:00:03  0:00:03 --:--:--  8015\n"
          ]
        }
      ],
      "source": [
        "%%bash\n",
        "\n",
        "# Encode image data in base64\n",
        "# NOTE: This command only works on Linux.\n",
        "data=$(base64 -w 0 image.jpg)\n",
        "\n",
        "MODEL_ID=\"gemini-1.0-pro-vision\"\n",
        "\n",
        "curl -X POST \\\n",
        "  -H \"Authorization: Bearer $(gcloud auth print-access-token)\" \\\n",
        "  -H \"Content-Type: application/json\" \\\n",
        "  https://${API_ENDPOINT}/v1/projects/${PROJECT_ID}/locations/${LOCATION}/publishers/google/models/${MODEL_ID}:streamGenerateContent \\\n",
        "  -d \"{\n",
        "      'contents': {\n",
        "        'role': 'USER',\n",
        "        'parts': [\n",
        "          {\n",
        "            'text': 'Is it a cat?'\n",
        "          },\n",
        "          {\n",
        "            'inline_data': {\n",
        "              'data': '${data}',\n",
        "              'mime_type':'image/jpeg'\n",
        "            }\n",
        "          }\n",
        "        ]\n",
        "       }\n",
        "     }\""
      ]
    },
    {
      "cell_type": "markdown",
      "metadata": {
        "id": "fKr-BklmhjgP"
      },
      "source": [
        "### Generate text from an image on Google Cloud Storage\n",
        "\n",
        "Specify the Cloud Storage URI of the image to include in the prompt. The bucket that stores the file must be in the same Google Cloud project that's sending the request. You must also specify the `mime_type` field. The supported image MIME types include `image/png` and `image/jpeg`."
      ]
    },
    {
      "cell_type": "code",
      "execution_count": 16,
      "metadata": {
        "id": "43pQE3_z3OjG",
        "tags": [],
        "outputId": "55a7b849-71ae-40f8-e56d-f3ea8419c80f",
        "colab": {
          "base_uri": "https://localhost:8080/"
        }
      },
      "outputs": [
        {
          "output_type": "stream",
          "name": "stdout",
          "text": [
            "[{\n",
            "  \"candidates\": [\n",
            "    {\n",
            "      \"content\": {\n",
            "        \"role\": \"model\",\n",
            "        \"parts\": [\n",
            "          {\n",
            "            \"text\": \" This is a photo of a cat walking in the snow. The cat is brown and white, and it has a long tail. The cat is walking towards\"\n",
            "          }\n",
            "        ]\n",
            "      },\n",
            "      \"safetyRatings\": [\n",
            "        {\n",
            "          \"category\": \"HARM_CATEGORY_HATE_SPEECH\",\n",
            "          \"probability\": \"NEGLIGIBLE\",\n",
            "          \"probabilityScore\": 0.031618766,\n",
            "          \"severity\": \"HARM_SEVERITY_NEGLIGIBLE\",\n",
            "          \"severityScore\": 0.06669065\n",
            "        },\n",
            "        {\n",
            "          \"category\": \"HARM_CATEGORY_DANGEROUS_CONTENT\",\n",
            "          \"probability\": \"NEGLIGIBLE\",\n",
            "          \"probabilityScore\": 0.061424047,\n",
            "          \"severity\": \"HARM_SEVERITY_NEGLIGIBLE\",\n",
            "          \"severityScore\": 0.0575992\n",
            "        },\n",
            "        {\n",
            "          \"category\": \"HARM_CATEGORY_HARASSMENT\",\n",
            "          \"probability\": \"NEGLIGIBLE\",\n",
            "          \"probabilityScore\": 0.066085376,\n",
            "          \"severity\": \"HARM_SEVERITY_NEGLIGIBLE\",\n",
            "          \"severityScore\": 0.049589027\n",
            "        },\n",
            "        {\n",
            "          \"category\": \"HARM_CATEGORY_SEXUALLY_EXPLICIT\",\n",
            "          \"probability\": \"NEGLIGIBLE\",\n",
            "          \"probabilityScore\": 0.07793769,\n",
            "          \"severity\": \"HARM_SEVERITY_NEGLIGIBLE\",\n",
            "          \"severityScore\": 0.09301681\n",
            "        }\n",
            "      ]\n",
            "    }\n",
            "  ]\n",
            "}\n",
            ",\r\n",
            "{\n",
            "  \"candidates\": [\n",
            "    {\n",
            "      \"content\": {\n",
            "        \"role\": \"model\",\n",
            "        \"parts\": [\n",
            "          {\n",
            "            \"text\": \" the camera, and it looks like it is about to jump. The background is a blur of snow.\"\n",
            "          }\n",
            "        ]\n",
            "      },\n",
            "      \"finishReason\": \"STOP\",\n",
            "      \"safetyRatings\": [\n",
            "        {\n",
            "          \"category\": \"HARM_CATEGORY_HATE_SPEECH\",\n",
            "          \"probability\": \"NEGLIGIBLE\",\n",
            "          \"probabilityScore\": 0.03461884,\n",
            "          \"severity\": \"HARM_SEVERITY_NEGLIGIBLE\",\n",
            "          \"severityScore\": 0.047602657\n",
            "        },\n",
            "        {\n",
            "          \"category\": \"HARM_CATEGORY_DANGEROUS_CONTENT\",\n",
            "          \"probability\": \"NEGLIGIBLE\",\n",
            "          \"probabilityScore\": 0.14523655,\n",
            "          \"severity\": \"HARM_SEVERITY_NEGLIGIBLE\",\n",
            "          \"severityScore\": 0.10484337\n",
            "        },\n",
            "        {\n",
            "          \"category\": \"HARM_CATEGORY_HARASSMENT\",\n",
            "          \"probability\": \"NEGLIGIBLE\",\n",
            "          \"probabilityScore\": 0.07544843,\n",
            "          \"severity\": \"HARM_SEVERITY_NEGLIGIBLE\",\n",
            "          \"severityScore\": 0.06108711\n",
            "        },\n",
            "        {\n",
            "          \"category\": \"HARM_CATEGORY_SEXUALLY_EXPLICIT\",\n",
            "          \"probability\": \"NEGLIGIBLE\",\n",
            "          \"probabilityScore\": 0.07303239,\n",
            "          \"severity\": \"HARM_SEVERITY_NEGLIGIBLE\",\n",
            "          \"severityScore\": 0.093181714\n",
            "        }\n",
            "      ]\n",
            "    }\n",
            "  ],\n",
            "  \"usageMetadata\": {\n",
            "    \"promptTokenCount\": 261,\n",
            "    \"candidatesTokenCount\": 52,\n",
            "    \"totalTokenCount\": 313\n",
            "  }\n",
            "}\n",
            "]"
          ]
        },
        {
          "output_type": "stream",
          "name": "stderr",
          "text": [
            "  % Total    % Received % Xferd  Average Speed   Time    Time     Time  Current\n",
            "                                 Dload  Upload   Total   Spent    Left  Speed\n",
            "\r  0     0    0     0    0     0      0      0 --:--:-- --:--:-- --:--:--     0\r100   649    0     0  100   649      0    537  0:00:01  0:00:01 --:--:--   538\r100   649    0     0  100   649      0    293  0:00:02  0:00:02 --:--:--   293\r100   649    0     0  100   649      0    202  0:00:03  0:00:03 --:--:--   202\r100   649    0     0  100   649      0    154  0:00:04  0:00:04 --:--:--   154\r100   649    0     0  100   649      0    124  0:00:05  0:00:05 --:--:--   124\r100  3361    0  2712  100   649    518    124  0:00:05  0:00:05 --:--:--   674\n"
          ]
        }
      ],
      "source": [
        "%%bash\n",
        "\n",
        "MODEL_ID=\"gemini-1.0-pro-vision\"\n",
        "\n",
        "curl -X POST \\\n",
        "  -H \"Authorization: Bearer $(gcloud auth print-access-token)\" \\\n",
        "  -H \"Content-Type: application/json\" \\\n",
        "  https://${API_ENDPOINT}/v1/projects/${PROJECT_ID}/locations/${LOCATION}/publishers/google/models/${MODEL_ID}:streamGenerateContent \\\n",
        "  -d '{\n",
        "    \"contents\": {\n",
        "      \"role\": \"USER\",\n",
        "      \"parts\": [\n",
        "        {\n",
        "          \"text\": \"Describe this image\"\n",
        "        },\n",
        "        {\n",
        "          \"file_data\": {\n",
        "            \"mime_type\": \"image/png\",\n",
        "            \"file_uri\": \"gs://cloud-samples-data/generative-ai/image/320px-Felis_catus-cat_on_snow.jpg\"\n",
        "          }\n",
        "        }\n",
        "      ]\n",
        "    },\n",
        "    \"generation_config\": {\n",
        "      \"temperature\": 0.2,\n",
        "      \"top_p\": 0.1,\n",
        "      \"top_k\": 16,\n",
        "      \"max_output_tokens\": 2048,\n",
        "      \"candidate_count\": 1,\n",
        "      \"stop_sequences\": []\n",
        "    },\n",
        "    \"safety_settings\": {\n",
        "      \"category\": \"HARM_CATEGORY_SEXUALLY_EXPLICIT\",\n",
        "      \"threshold\": \"BLOCK_LOW_AND_ABOVE\"\n",
        "    }\n",
        "  }'"
      ]
    },
    {
      "cell_type": "markdown",
      "metadata": {
        "id": "TVF4vHuBOD8N"
      },
      "source": [
        "### Generate text from a video file\n",
        "\n",
        "Specify the Cloud Storage URI of the video to include in the prompt. The bucket that stores the file must be in the same Google Cloud project that's sending the request. You must also specify the `mime_type` field. The supported MIME types for video include `video/mp4`.\n"
      ]
    },
    {
      "cell_type": "code",
      "execution_count": 17,
      "metadata": {
        "id": "F8kS5p0l_uHE",
        "tags": [],
        "outputId": "8f9b945d-c48a-406e-b59a-10bca2ffb4ff",
        "colab": {
          "base_uri": "https://localhost:8080/"
        }
      },
      "outputs": [
        {
          "output_type": "stream",
          "name": "stdout",
          "text": [
            "[{\n",
            "  \"candidates\": [\n",
            "    {\n",
            "      \"content\": {\n",
            "        \"role\": \"model\",\n",
            "        \"parts\": [\n",
            "          {\n",
            "            \"text\": \" ```json\\n{\\n  \\\"person\\\": {\\n    \\\"name\\\": \\\"Saeka Shimada\\\",\\n    \\\"profession\\\": \\\"photographer\\\"\\n  },\\n  \\\"phone\\\": {\\n    \\\"brand\\\": \\\"Google\\\",\\n    \\\"model\\\": \\\"Pixel 8\\\",\\n    \\\"features\\\": [\\\"Video Boost\\\", \\\"Night Sight\\\"]\\n  },\\n  \\\"city\\\": \\\"Tokyo\\\"\\n}\\n```\"\n",
            "          }\n",
            "        ]\n",
            "      },\n",
            "      \"finishReason\": \"STOP\",\n",
            "      \"safetyRatings\": [\n",
            "        {\n",
            "          \"category\": \"HARM_CATEGORY_HATE_SPEECH\",\n",
            "          \"probability\": \"NEGLIGIBLE\",\n",
            "          \"probabilityScore\": 0.068412915,\n",
            "          \"severity\": \"HARM_SEVERITY_NEGLIGIBLE\",\n",
            "          \"severityScore\": 0.08269734\n",
            "        },\n",
            "        {\n",
            "          \"category\": \"HARM_CATEGORY_DANGEROUS_CONTENT\",\n",
            "          \"probability\": \"NEGLIGIBLE\",\n",
            "          \"probabilityScore\": 0.22627032,\n",
            "          \"severity\": \"HARM_SEVERITY_NEGLIGIBLE\",\n",
            "          \"severityScore\": 0.1834473\n",
            "        },\n",
            "        {\n",
            "          \"category\": \"HARM_CATEGORY_HARASSMENT\",\n",
            "          \"probability\": \"NEGLIGIBLE\",\n",
            "          \"probabilityScore\": 0.08108212,\n",
            "          \"severity\": \"HARM_SEVERITY_NEGLIGIBLE\",\n",
            "          \"severityScore\": 0.07504072\n",
            "        },\n",
            "        {\n",
            "          \"category\": \"HARM_CATEGORY_SEXUALLY_EXPLICIT\",\n",
            "          \"probability\": \"NEGLIGIBLE\",\n",
            "          \"probabilityScore\": 0.1261379,\n",
            "          \"severity\": \"HARM_SEVERITY_NEGLIGIBLE\",\n",
            "          \"severityScore\": 0.11143445\n",
            "        }\n",
            "      ]\n",
            "    }\n",
            "  ],\n",
            "  \"usageMetadata\": {\n",
            "    \"promptTokenCount\": 1072,\n",
            "    \"candidatesTokenCount\": 84,\n",
            "    \"totalTokenCount\": 1156\n",
            "  }\n",
            "}\n",
            "]"
          ]
        },
        {
          "output_type": "stream",
          "name": "stderr",
          "text": [
            "  % Total    % Received % Xferd  Average Speed   Time    Time     Time  Current\n",
            "                                 Dload  Upload   Total   Spent    Left  Speed\n",
            "\r  0     0    0     0    0     0      0      0 --:--:-- --:--:-- --:--:--     0\r100   514    0     0  100   514      0    424  0:00:01  0:00:01 --:--:--   425\r100   514    0     0  100   514      0    232  0:00:02  0:00:02 --:--:--   232\r100   514    0     0  100   514      0    159  0:00:03  0:00:03 --:--:--   159\r100   514    0     0  100   514      0    121  0:00:04  0:00:04 --:--:--   121\r100   514    0     0  100   514      0     98  0:00:05  0:00:05 --:--:--    98\r100   514    0     0  100   514      0     82  0:00:06  0:00:06 --:--:--     0\r100   514    0     0  100   514      0     71  0:00:07  0:00:07 --:--:--     0\r100   514    0     0  100   514      0     62  0:00:08  0:00:08 --:--:--     0\r100  2105    0  1591  100   514    179     58  0:00:08  0:00:08 --:--:--   344\n"
          ]
        }
      ],
      "source": [
        "%%bash\n",
        "\n",
        "MODEL_ID=\"gemini-1.0-pro-vision\"\n",
        "\n",
        "curl -X POST \\\n",
        "  -H \"Authorization: Bearer $(gcloud auth print-access-token)\" \\\n",
        "  -H \"Content-Type: application/json\" \\\n",
        "  https://${API_ENDPOINT}/v1/projects/${PROJECT_ID}/locations/${LOCATION}/publishers/google/models/${MODEL_ID}:streamGenerateContent \\\n",
        "  -d \\\n",
        "'{\n",
        "    \"contents\": {\n",
        "      \"role\": \"USER\",\n",
        "      \"parts\": [\n",
        "        {\n",
        "          \"text\": \"Answer the following questions using the video only. What is the profession of the main person? What are the main features of the phone highlighted?Which city was this recorded in?Provide the answer JSON.\"\n",
        "        },\n",
        "        {\n",
        "          \"file_data\": {\n",
        "            \"mime_type\": \"video/mp4\",\n",
        "            \"file_uri\": \"gs://github-repo/img/gemini/multimodality_usecases_overview/pixel8.mp4\"\n",
        "          }\n",
        "        }\n",
        "      ]\n",
        "    }\n",
        "  }'"
      ]
    },
    {
      "cell_type": "code",
      "source": [],
      "metadata": {
        "id": "T9VVyXvJ-cIQ"
      },
      "execution_count": null,
      "outputs": []
    }
  ],
  "metadata": {
    "colab": {
      "name": "intro_gemini_curl.ipynb",
      "provenance": [],
      "include_colab_link": true
    },
    "environment": {
      "kernel": "conda-root-py",
      "name": "workbench-notebooks.m115",
      "type": "gcloud",
      "uri": "gcr.io/deeplearning-platform-release/workbench-notebooks:m115"
    },
    "kernelspec": {
      "display_name": "Python 3 (ipykernel) (Local)",
      "language": "python",
      "name": "conda-root-py"
    },
    "language_info": {
      "codemirror_mode": {
        "name": "ipython",
        "version": 3
      },
      "file_extension": ".py",
      "mimetype": "text/x-python",
      "name": "python",
      "nbconvert_exporter": "python",
      "pygments_lexer": "ipython3",
      "version": "3.10.13"
    }
  },
  "nbformat": 4,
  "nbformat_minor": 0
}